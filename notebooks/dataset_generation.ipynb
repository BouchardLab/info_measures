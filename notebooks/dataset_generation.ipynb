{
 "cells": [
  {
   "cell_type": "code",
   "execution_count": 2,
   "metadata": {
    "collapsed": true
   },
   "outputs": [],
   "source": [
    "import numpy as np\n",
    "from tensorflow.examples.tutorials.mnist import input_data\n",
    "import matplotlib.pyplot as plt\n",
    "from imp import reload\n",
    "from scipy.stats import entropy\n",
    "from scipy.special import factorial\n",
    "%matplotlib inline\n",
    "\n",
    "import numba\n",
    "\n",
    "from info_measures import dataset_generators as dg\n",
    "import info_measures.numpy.kraskov_stoegbauer_grassberger as ksg"
   ]
  },
  {
   "cell_type": "code",
   "execution_count": 99,
   "metadata": {},
   "outputs": [
    {
     "name": "stdout",
     "output_type": "stream",
     "text": [
      "Extracting ./train-images-idx3-ubyte.gz\n",
      "Extracting ./train-labels-idx1-ubyte.gz\n",
      "Extracting ./t10k-images-idx3-ubyte.gz\n",
      "Extracting ./t10k-labels-idx1-ubyte.gz\n"
     ]
    }
   ],
   "source": [
    "# Load and remove zeros\n",
    "mnist = input_data.read_data_sets('.', one_hot=True, validation_size=0, reshape=False)\n",
    "X = mnist.train.images\n",
    "X = X[:,2:-2:2,2:-2:2]"
   ]
  },
  {
   "cell_type": "markdown",
   "metadata": {},
   "source": [
    "# Image"
   ]
  },
  {
   "cell_type": "code",
   "execution_count": 100,
   "metadata": {},
   "outputs": [],
   "source": [
    "reload(dg)\n",
    "\n",
    "dg_mnist = dg.ImageGenerator(X, grow_axis=2)"
   ]
  },
  {
   "cell_type": "code",
   "execution_count": 101,
   "metadata": {},
   "outputs": [
    {
     "name": "stdout",
     "output_type": "stream",
     "text": [
      "(60000, 12, 12, 1)\n",
      "[1, 2]\n"
     ]
    }
   ],
   "source": [
    "print(dg_mnist.X.shape)\n",
    "print(dg_mnist.symmetry_axes)"
   ]
  },
  {
   "cell_type": "code",
   "execution_count": 102,
   "metadata": {},
   "outputs": [
    {
     "name": "stdout",
     "output_type": "stream",
     "text": [
      "here\n"
     ]
    }
   ],
   "source": [
    "dim = 4\n",
    "perp_dim = 7\n",
    "samples = dg_mnist.sample_data(dim, perp_dim=perp_dim)"
   ]
  },
  {
   "cell_type": "code",
   "execution_count": 114,
   "metadata": {},
   "outputs": [
    {
     "data": {
      "text/plain": [
       "<matplotlib.image.AxesImage at 0x7f8f23fbf7b8>"
      ]
     },
     "execution_count": 114,
     "metadata": {},
     "output_type": "execute_result"
    },
    {
     "data": {
      "image/png": "[encoded data removed]",
      "text/plain": [
       "<matplotlib.figure.Figure at 0x7f8f24004320>"
      ]
     },
     "metadata": {},
     "output_type": "display_data"
    }
   ],
   "source": [
    "n = 10\n",
    "plt.imshow(samples[n].reshape(2*dim, perp_dim))"
   ]
  },
  {
   "cell_type": "code",
   "execution_count": 115,
   "metadata": {},
   "outputs": [
    {
     "data": {
      "text/plain": [
       "(1800000, 56, 1)"
      ]
     },
     "execution_count": 115,
     "metadata": {},
     "output_type": "execute_result"
    }
   ],
   "source": [
    "samples.shape"
   ]
  },
  {
   "cell_type": "markdown",
   "metadata": {},
   "source": [
    "# VectorSpace"
   ]
  },
  {
   "cell_type": "code",
   "execution_count": 75,
   "metadata": {
    "collapsed": true
   },
   "outputs": [],
   "source": [
    "reload(dg)\n",
    "dg_vec = dg.VectorSpaceGenerator(X)"
   ]
  },
  {
   "cell_type": "code",
   "execution_count": 76,
   "metadata": {},
   "outputs": [],
   "source": [
    "xp = dg_vec.sample_data(grow_dim=1, n_samples=100000)"
   ]
  },
  {
   "cell_type": "code",
   "execution_count": 77,
   "metadata": {
    "scrolled": true
   },
   "outputs": [
    {
     "name": "stdout",
     "output_type": "stream",
     "text": [
      "20.5 ms ± 75.5 µs per loop (mean ± std. dev. of 7 runs, 10 loops each)\n"
     ]
    }
   ],
   "source": [
    "%timeit dg_vec.sample_data(grow_dim=3, n_samples=1000)"
   ]
  },
  {
   "cell_type": "code",
   "execution_count": 78,
   "metadata": {
    "scrolled": true
   },
   "outputs": [
    {
     "name": "stdout",
     "output_type": "stream",
     "text": [
      "0.143956322015 0.320517632346\n",
      "0.142707145499 0.318806047726\n"
     ]
    },
    {
     "data": {
      "image/png": "[encoded data removed]",
      "text/plain": [
       "<matplotlib.figure.Figure at 0x7f8f490f17f0>"
      ]
     },
     "metadata": {},
     "output_type": "display_data"
    },
    {
     "data": {
      "image/png": "[encoded data removed]",
      "text/plain": [
       "<matplotlib.figure.Figure at 0x7f8f24126908>"
      ]
     },
     "metadata": {},
     "output_type": "display_data"
    }
   ],
   "source": [
    "plt.close()\n",
    "pdfs = []\n",
    "for ii in range(xp.shape[1]):\n",
    "    plt.figure()\n",
    "    pdf, _, _ = plt.hist(xp[:, ii], bins=np.linspace(0, 1, 256))\n",
    "    print(xp[:, ii].mean(), xp[:, ii].std())\n",
    "    pdfs.append(pdf)\n",
    "    plt.yscale('log')"
   ]
  },
  {
   "cell_type": "code",
   "execution_count": 158,
   "metadata": {
    "collapsed": true
   },
   "outputs": [],
   "source": [
    "im = np.zeros((14, 14))\n",
    "im2 = np.zeros((14, 14))\n",
    "for ii in range(14):\n",
    "    for jj in range(ii):\n",
    "        im[ii, jj] = entropy(pdfs[ii], pdfs[jj])\n",
    "        im2[ii,jj] = np.dot(xp[:,ii,0]-xp[:,ii,0].mean(), xp[:,jj]-xp[:,jj].mean())"
   ]
  },
  {
   "cell_type": "code",
   "execution_count": 160,
   "metadata": {},
   "outputs": [
    {
     "data": {
      "text/plain": [
       "<matplotlib.image.AxesImage at 0x7fb64987df98>"
      ]
     },
     "execution_count": 160,
     "metadata": {},
     "output_type": "execute_result"
    },
    {
     "data": {
      "image/png": "[encoded data removed]",
      "text/plain": [
       "<matplotlib.figure.Figure at 0x7fb649efda58>"
      ]
     },
     "metadata": {},
     "output_type": "display_data"
    },
    {
     "data": {
      "image/png": "[encoded data removed]",
      "text/plain": [
       "<matplotlib.figure.Figure at 0x7fb64a5ee518>"
      ]
     },
     "metadata": {},
     "output_type": "display_data"
    }
   ],
   "source": [
    "plt.imshow(im)\n",
    "plt.figure()\n",
    "plt.imshow(im2)"
   ]
  },
  {
   "cell_type": "code",
   "execution_count": 99,
   "metadata": {
    "collapsed": true
   },
   "outputs": [],
   "source": [
    "ksg_e = ksg.MutualInformation(xp[:,:3,0], xp[:,3:,0], add_noise=True)"
   ]
  },
  {
   "cell_type": "code",
   "execution_count": 100,
   "metadata": {},
   "outputs": [
    {
     "data": {
      "text/plain": [
       "0.032866438432568756"
      ]
     },
     "execution_count": 100,
     "metadata": {},
     "output_type": "execute_result"
    }
   ],
   "source": [
    "ksg_e.mutual_information()"
   ]
  },
  {
   "cell_type": "code",
   "execution_count": 97,
   "metadata": {
    "collapsed": true
   },
   "outputs": [],
   "source": [
    "ksg_e2 = ksg.MutualInformation(xp[:,0][np.random.permutation(60000)], xp[:,1], add_noise=True)"
   ]
  },
  {
   "cell_type": "code",
   "execution_count": 98,
   "metadata": {},
   "outputs": [
    {
     "data": {
      "text/plain": [
       "0.0032976463352465402"
      ]
     },
     "execution_count": 98,
     "metadata": {},
     "output_type": "execute_result"
    }
   ],
   "source": [
    "ksg_e2.mutual_information()"
   ]
  },
  {
   "cell_type": "markdown",
   "metadata": {},
   "source": [
    "# MultiChannelTimeseries"
   ]
  },
  {
   "cell_type": "code",
   "execution_count": 52,
   "metadata": {},
   "outputs": [],
   "source": [
    "reload(dg)\n",
    "\n",
    "dg_time = dg.MultiChannelTimeseriesGenerator(X)"
   ]
  },
  {
   "cell_type": "code",
   "execution_count": 55,
   "metadata": {},
   "outputs": [
    {
     "name": "stdout",
     "output_type": "stream",
     "text": [
      "iters 1\n",
      "0 1620000 700000\n"
     ]
    }
   ],
   "source": [
    "n_t = 1\n",
    "xp = dg_time.sample_data(n_t, 2, n_samples=700000)"
   ]
  },
  {
   "cell_type": "code",
   "execution_count": 56,
   "metadata": {},
   "outputs": [
    {
     "data": {
      "text/plain": [
       "(700000, 4, 1)"
      ]
     },
     "execution_count": 56,
     "metadata": {},
     "output_type": "execute_result"
    }
   ],
   "source": [
    "xp.shape"
   ]
  },
  {
   "cell_type": "code",
   "execution_count": 45,
   "metadata": {},
   "outputs": [
    {
     "name": "stderr",
     "output_type": "stream",
     "text": [
      "/home/jesse/Development/info_measures/info_measures/numpy/kraskov_stoegbauer_grassberger.py:107: RuntimeWarning: invalid value encountered in true_divide\n",
      "  X = X / X.std(axis=0, keepdims=True)\n"
     ]
    }
   ],
   "source": [
    "x0 = xp[::1000, :n_t]\n",
    "x0 = x0.reshape(x0.shape[0], -1)\n",
    "x1 = xp[::1000, n_t:]\n",
    "x1 = x1.reshape(x0.shape[0], -1)\n",
    "ksg_e = ksg.MutualInformation(x0, x1, add_noise=True)"
   ]
  },
  {
   "cell_type": "code",
   "execution_count": 46,
   "metadata": {},
   "outputs": [
    {
     "data": {
      "text/plain": [
       "0.14803318941509325"
      ]
     },
     "execution_count": 46,
     "metadata": {},
     "output_type": "execute_result"
    }
   ],
   "source": [
    "ksg_e.mutual_information()"
   ]
  },
  {
   "cell_type": "markdown",
   "metadata": {
    "collapsed": true
   },
   "source": [
    "# Number of multichannel timeseries samples"
   ]
  },
  {
   "cell_type": "code",
   "execution_count": 2,
   "metadata": {},
   "outputs": [
    {
     "name": "stdout",
     "output_type": "stream",
     "text": [
      "63999872 samples\n",
      "488.28 MB\n"
     ]
    }
   ],
   "source": [
    "# batch size\n",
    "n_X = 1\n",
    "# time steps\n",
    "n_t = 500000\n",
    "# channels\n",
    "n_c = 128\n",
    "# features\n",
    "n_f = 1\n",
    "\n",
    "# channels per sample\n",
    "c = 1\n",
    "# time per sample (doubled for PI)\n",
    "t = 1\n",
    "\n",
    "n_s = n_X * factorial(n_c, exact=True) // factorial(n_c-c, exact=True) * ((n_t) + 1 - 2*t)\n",
    "print('{} samples'.format(n_s))\n",
    "print('{} MB'.format(np.around(64 * n_f * n_s / 8 / 1024**2, 2)))"
   ]
  },
  {
   "cell_type": "markdown",
   "metadata": {},
   "source": [
    "# Number of linear image samples"
   ]
  },
  {
   "cell_type": "code",
   "execution_count": 40,
   "metadata": {},
   "outputs": [
    {
     "name": "stdout",
     "output_type": "stream",
     "text": [
      "45360000 samples\n",
      "346.07 MB\n"
     ]
    }
   ],
   "source": [
    "# batch size\n",
    "n_X = 60000\n",
    "# width (PI direction)\n",
    "n_w = 28\n",
    "# height (channels direction)\n",
    "n_h = 28\n",
    "# features\n",
    "n_f = 1\n",
    "\n",
    "# height (channels) per sample\n",
    "H = 1\n",
    "# width(time) per sample (doubled for PI)\n",
    "W = 1\n",
    "\n",
    "n_s = n_X * ((n_w) + 1 - 2*W) * ((n_h) + 1 - H)\n",
    "print('{} samples'.format(n_s))\n",
    "print('{} MB'.format(np.around(64 * n_f * n_s / 8 / 1024**2, 2)))"
   ]
  },
  {
   "cell_type": "markdown",
   "metadata": {},
   "source": [
    "# Number of vectorspace samples"
   ]
  },
  {
   "cell_type": "code",
   "execution_count": 45,
   "metadata": {},
   "outputs": [
    {
     "name": "stdout",
     "output_type": "stream",
     "text": [
      "36832320000 samples\n",
      "274.42 GB\n"
     ]
    }
   ],
   "source": [
    "# batch size\n",
    "n_X = 60000\n",
    "# channels (PI direction)\n",
    "n_c = 28 * 28\n",
    "# features\n",
    "n_f = 1\n",
    "\n",
    "# channels (time) per sample (doubled for PI)\n",
    "c = 1\n",
    "\n",
    "n_s = n_X * factorial(n_c, exact=True) // factorial(n_c-2*c, exact=True)\n",
    "print('{} samples'.format(n_s))\n",
    "print('{} GB'.format(np.around(64 * n_f * n_s / 8 / 1024**3, 2)))"
   ]
  },
  {
   "cell_type": "code",
   "execution_count": null,
   "metadata": {
    "collapsed": true
   },
   "outputs": [],
   "source": []
  }
 ],
 "metadata": {
  "kernelspec": {
   "display_name": "Python 3",
   "language": "python",
   "name": "python3"
  },
  "language_info": {
   "codemirror_mode": {
    "name": "ipython",
    "version": 3
   },
   "file_extension": ".py",
   "mimetype": "text/x-python",
   "name": "python",
   "nbconvert_exporter": "python",
   "pygments_lexer": "ipython3",
   "version": "3.5.4"
  }
 },
 "nbformat": 4,
 "nbformat_minor": 2
}
