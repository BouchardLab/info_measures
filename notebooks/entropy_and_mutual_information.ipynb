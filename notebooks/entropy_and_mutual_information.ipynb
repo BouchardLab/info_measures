{
 "cells": [
  {
   "cell_type": "code",
   "execution_count": 6,
   "metadata": {
    "collapsed": true
   },
   "outputs": [],
   "source": [
    "import os\n",
    "import numpy as np\n",
    "import matplotlib.pyplot as plt\n",
    "from scipy.stats import multivariate_normal\n",
    "from scipy.special import digamma\n",
    "import scipy.spatial as ss\n",
    "\n",
    "import entropy_estimators as ee\n",
    "from imp import reload\n",
    "\n",
    "from science_nets.numpy import kolchinsky_tracey as kt\n",
    "from science_nets.numpy import kraskov_stoegbauer_grassberger as ksg\n",
    "\n",
    "%matplotlib inline"
   ]
  },
  {
   "cell_type": "code",
   "execution_count": 7,
   "metadata": {
    "collapsed": true
   },
   "outputs": [],
   "source": [
    "prop_cycle = plt.rcParams['axes.prop_cycle']\n",
    "colors = prop_cycle.by_key()['color']\n",
    "names = ['true', 'upper', 'lower', 'ek1', 'ek2']\n",
    "cs = {n: c for n, c in zip(['true', 'upper', 'lower', 'ek1', 'ek2'], colors)}"
   ]
  },
  {
   "cell_type": "markdown",
   "metadata": {},
   "source": [
    "# Entropy"
   ]
  },
  {
   "cell_type": "code",
   "execution_count": null,
   "metadata": {
    "collapsed": true
   },
   "outputs": [],
   "source": [
    "dim = 1\n",
    "mu = np.zeros(dim)\n",
    "svar = np.diag(np.power(10., np.arange(dim) - (dim-1.)/2.))"
   ]
  },
  {
   "cell_type": "code",
   "execution_count": null,
   "metadata": {
    "collapsed": true
   },
   "outputs": [],
   "source": [
    "e = np.asscalar(multivariate_normal(mu, svar).entropy())"
   ]
  },
  {
   "cell_type": "markdown",
   "metadata": {},
   "source": [
    "# Scaling with data"
   ]
  },
  {
   "cell_type": "code",
   "execution_count": null,
   "metadata": {
    "collapsed": true
   },
   "outputs": [],
   "source": [
    "n_repeat = 1000\n",
    "n = np.logspace(1, 3.5, 15, dtype=int)\n",
    "eu = np.zeros((n.size, n_repeat))\n",
    "el = np.zeros((n.size, n_repeat))\n",
    "ek1 = np.zeros((n.size, n_repeat))"
   ]
  },
  {
   "cell_type": "code",
   "execution_count": null,
   "metadata": {},
   "outputs": [],
   "source": [
    "reload(ee)\n",
    "reload(kt)\n",
    "reload(ksg)\n",
    "for ii, ns in enumerate(n):\n",
    "    for jj in range(n_repeat):\n",
    "        x = np.random.multivariate_normal(mu, svar, size=ns)\n",
    "        kt_estimator = kt.Entropy(x)\n",
    "        ksg_estimator = ksg.Entropy(x)\n",
    "        eu[ii, jj] = kt_estimator.entropy(lower=False)\n",
    "        el[ii, jj] = kt_estimator.entropy(lower=True)\n",
    "        ek1[ii, jj] = ksg_estimator.entropy()"
   ]
  },
  {
   "cell_type": "code",
   "execution_count": null,
   "metadata": {
    "collapsed": true
   },
   "outputs": [],
   "source": [
    "f = plt.figure()\n",
    "true = np.ones((n.size, n_repeat)) * e\n",
    "for x, name in zip([true, eu, el, ek1], names):\n",
    "    plt.plot(1./n, np.median(x, axis=-1), label=name, c=cs[name])\n",
    "    if name != 'true':\n",
    "        plt.fill_between(1./n, np.percentile(x, 2.5, axis=-1), np.percentile(x, 97.5, axis=-1),\n",
    "                         facecolor=cs[name], alpha=.2)\n",
    "\n",
    "plt.ylim(0, None)\n",
    "plt.xscale('log')\n",
    "plt.ylabel('Entropy')\n",
    "plt.xlabel('1/n_samples')\n",
    "plt.legend()\n",
    "plt.savefig('/home/jesse/Downloads/e_data_scaling.pdf')\n",
    "plt.show()"
   ]
  },
  {
   "cell_type": "markdown",
   "metadata": {},
   "source": [
    "# Scaling with data scale"
   ]
  },
  {
   "cell_type": "code",
   "execution_count": null,
   "metadata": {
    "collapsed": true
   },
   "outputs": [],
   "source": [
    "s = np.logspace(-2, 2, 20)\n",
    "es = [np.asscalar(multivariate_normal(mu, svar*si**2).entropy()) for si in s]\n",
    "eu = np.zeros(s.size)\n",
    "el = np.zeros(s.size)\n",
    "ek1 = np.zeros(s.size)"
   ]
  },
  {
   "cell_type": "code",
   "execution_count": null,
   "metadata": {
    "collapsed": true
   },
   "outputs": [],
   "source": [
    "reload(ee)\n",
    "reload(kt)\n",
    "reload(ksg)\n",
    "ns = 1000\n",
    "x = np.random.multivariate_normal(mu, svar, size=ns)\n",
    "for ii, si in enumerate(s):\n",
    "    kt_estimator = kt.Entropy(si * x)\n",
    "    ksg_estimator = ksg.Entropy(si * x)\n",
    "    eu[ii] = kt_estimator.entropy(lower=False)\n",
    "    el[ii] = kt_estimator.entropy(lower=True)\n",
    "    ek1[ii] = ksg_estimator.entropy()"
   ]
  },
  {
   "cell_type": "code",
   "execution_count": null,
   "metadata": {
    "collapsed": true
   },
   "outputs": [],
   "source": [
    "f = plt.figure()\n",
    "plt.plot(s, es, label='true')\n",
    "plt.plot(s, eu, label='upper')\n",
    "plt.plot(s, el, label='lower')\n",
    "plt.plot(s, ek1, label='ek')\n",
    "plt.xscale('log')\n",
    "plt.ylabel('Entropy')\n",
    "plt.xlabel('scale')\n",
    "plt.legend()\n",
    "plt.savefig('/home/jesse/Downloads/e_data_scale.pdf')\n",
    "plt.show()"
   ]
  },
  {
   "cell_type": "markdown",
   "metadata": {},
   "source": [
    "# Scaling with estimator parameters"
   ]
  },
  {
   "cell_type": "code",
   "execution_count": null,
   "metadata": {
    "collapsed": true
   },
   "outputs": [],
   "source": [
    "n_repeat = 1000\n",
    "varss = np.logspace(-6, 1, 15)\n",
    "ns = 1000\n",
    "eu = np.zeros((varss.size, n_repeat))\n",
    "el = np.zeros((varss.size, n_repeat))\n",
    "for jj in range(n_repeat):\n",
    "    x = np.random.multivariate_normal(mu, svar, size=ns)\n",
    "    kt_estimator = kt.Entropy(x)\n",
    "    for ii, var in enumerate(varss):\n",
    "        eu[ii, jj] = kt_estimator.entropy(var, lower=False)\n",
    "        el[ii, jj] = kt_estimator.entropy(var, lower=True)"
   ]
  },
  {
   "cell_type": "code",
   "execution_count": null,
   "metadata": {
    "collapsed": true
   },
   "outputs": [],
   "source": [
    "f = plt.figure()\n",
    "true = np.ones((varss.size, n_repeat)) * e\n",
    "for x, name in zip([true, eu, el], names):\n",
    "    plt.plot(varss, np.median(x, axis=-1), label=name, c=cs[name])\n",
    "    if name != 'true':\n",
    "        plt.fill_between(varss, np.percentile(x, 2.5, axis=-1), np.percentile(x, 97.5, axis=-1),\n",
    "                         facecolor=cs[name], alpha=.2)\n",
    "\n",
    "plt.ylim(0, None)\n",
    "plt.ylabel('Entropy')\n",
    "plt.xlabel('var')\n",
    "plt.xscale('log')\n",
    "plt.legend()\n",
    "plt.savefig('/home/jesse/Downloads/e_el_param_scaling.pdf')\n",
    "plt.show()\n",
    "\n",
    "\"\"\"\n",
    "logx = np.log(varss)\n",
    "p = np.polyfit(logx, eu, deg=3)\n",
    "xu = np.exp(-p[::-1][2] / 3. / p[::-1][3])\n",
    "eup = np.polyval(p, logx)\n",
    "#plt.semilogx(varss, eup, label='upper3')\n",
    "p = np.polyfit(logx, el, deg=3)\n",
    "xl = np.exp(-p[::-1][2] / 3. / p[::-1][3])\n",
    "elp = np.polyval(p, logx)\n",
    "xa = .5*xu + .5*xl\n",
    "#plt.axvline(xa, 0, 1, c='gray')\n",
    "#plt.semilogx(varss, elp, label='lower3')\n",
    "\"\"\""
   ]
  },
  {
   "cell_type": "markdown",
   "metadata": {},
   "source": [
    "## Animation"
   ]
  },
  {
   "cell_type": "code",
   "execution_count": null,
   "metadata": {
    "collapsed": true
   },
   "outputs": [],
   "source": [
    "from matplotlib import animation, rc\n",
    "from IPython.display import HTML"
   ]
  },
  {
   "cell_type": "code",
   "execution_count": null,
   "metadata": {},
   "outputs": [],
   "source": [
    "f, (ax0, ax1) = plt.subplots(1, 2, figsize=(10, 5))\n",
    "\n",
    "ns = 100\n",
    "varss = np.logspace(-6, 1, 15)\n",
    "dim = 1\n",
    "mu = np.zeros(dim)\n",
    "svar = np.diag(np.power(10., np.arange(dim) - (dim-1.)/2.))\n",
    "x = np.random.multivariate_normal(mu, svar, size=ns)\n",
    "kt_estimator = kt.Entropy(x)\n",
    "e = np.asscalar(multivariate_normal(mu, svar).entropy())\n",
    "xlims = abs(x).max() * 1.1\n",
    "x_pts = np.linspace(-xlims, xlims, 10000)\n",
    "\n",
    "def plot_bumps(x, x_pts, var):\n",
    "    n = len(x)\n",
    "    y = np.zeros_like(x_pts)\n",
    "    for xi in x:\n",
    "        y += np.exp(-(x_pts - xi)**2 / (2. * var)) / n / np.sqrt(2. * np.pi * var)\n",
    "    return y\n",
    "\n",
    "true_pdf = plot_bumps([0], x_pts, svar[0, 0])\n",
    "\n",
    "pdfs = np.zeros((varss.size, x_pts.size))\n",
    "for ii, var in enumerate(varss):\n",
    "    pdfs[ii] = plot_bumps(x, x_pts, var)\n",
    "\n",
    "eu = np.zeros(varss.size)\n",
    "el = np.zeros(varss.size)\n",
    "for ii, var in enumerate(varss):\n",
    "    eu[ii] = kt_estimator.entropy(var, lower=False)\n",
    "    el[ii] = kt_estimator.entropy(var, lower=True)\n",
    "\n",
    "line0, = ax0.plot([], [], c='k')\n",
    "line1, = ax1.plot([], [], c=cs['upper'], label='upper')\n",
    "line2, = ax1.plot([], [], c=cs['lower'], label='lower')\n",
    "ax1.plot([varss[0], varss[-1]], [e, e])\n",
    "ax1.legend()\n",
    "ax0.plot(x_pts, true_pdf, c=cs['true'])\n",
    "ax0.set_ylim(true_pdf.min(), pdfs.max())\n",
    "ax0.set_xlim(-xlims, xlims)\n",
    "ax0.set_yscale('log')\n",
    "ax1.set_ylim(0, eu.max())\n",
    "ax1.set_xscale('log')\n",
    "ax1.set_xlim(varss[0], varss[-1])\n",
    "\n",
    "ax0.set_xlabel('x')\n",
    "ax0.set_ylabel('p(x)')\n",
    "ax1.set_xlabel('var')\n",
    "ax1.set_ylabel('Entropy')\n",
    "\n",
    "def init():\n",
    "    line0.set_data([], [])\n",
    "    line1.set_data([], [])\n",
    "    line2.set_data([], [])\n",
    "    return (line0, line1, line2)\n",
    "    \n",
    "def animate(ii):\n",
    "    if ii == 0:\n",
    "        xvar = varss[0]\n",
    "        yu = eu[0]\n",
    "        yl = el[0]\n",
    "    else:\n",
    "        xvar = varss[:ii]\n",
    "        yu = eu[:ii]\n",
    "        yl = el[:ii]\n",
    "    line0.set_data(x_pts, pdfs[ii])\n",
    "    line1.set_data(xvar, yu)\n",
    "    line2.set_data(xvar, yl)\n",
    "    return (line0, line1, line2)"
   ]
  },
  {
   "cell_type": "code",
   "execution_count": null,
   "metadata": {
    "collapsed": true
   },
   "outputs": [],
   "source": [
    "anim = animation.FuncAnimation(f, animate, init_func=init,\n",
    "                               frames=varss.size, interval=500,\n",
    "                               blit=True)"
   ]
  },
  {
   "cell_type": "code",
   "execution_count": null,
   "metadata": {},
   "outputs": [],
   "source": [
    "HTML(anim.to_html5_video())"
   ]
  },
  {
   "cell_type": "code",
   "execution_count": null,
   "metadata": {
    "collapsed": true
   },
   "outputs": [],
   "source": [
    "anim.save('/home/jesse/Downloads/anim.mp4')"
   ]
  },
  {
   "cell_type": "code",
   "execution_count": null,
   "metadata": {
    "collapsed": true
   },
   "outputs": [],
   "source": [
    "anim.to_html5_video?"
   ]
  },
  {
   "cell_type": "code",
   "execution_count": null,
   "metadata": {},
   "outputs": [],
   "source": [
    "n_repeat = 1000\n",
    "ks = np.arange(1, 15)\n",
    "ns = 1000\n",
    "ek = np.zeros((ks.size, n_repeat))\n",
    "for jj in range(n_repeat):\n",
    "    x = np.random.multivariate_normal(mu, svar, size=ns)\n",
    "    ksg_estimator = ksg.Entropy(x)\n",
    "    for ii, k in enumerate(ks):\n",
    "        ek[ii, jj] = ksg_estimator.entropy(k)"
   ]
  },
  {
   "cell_type": "code",
   "execution_count": null,
   "metadata": {},
   "outputs": [],
   "source": [
    "f = plt.figure()\n",
    "true = np.ones((ks.size, n_repeat)) * e\n",
    "for x, name in zip([true, ek], ['true', 'ek1']):\n",
    "    plt.plot(ks, np.median(x, axis=-1), label=name, c=cs[name])\n",
    "    if name != 'true':\n",
    "        plt.fill_between(ks, np.percentile(x, 2.5, axis=-1), np.percentile(x, 97.5, axis=-1),\n",
    "                         facecolor=cs[name], alpha=.2)\n",
    "\n",
    "plt.ylim(0, None)\n",
    "plt.ylabel('Entropy')\n",
    "plt.xlabel('k')\n",
    "plt.legend()\n",
    "plt.savefig('/home/jesse/Downloads/e_kvar_param_scaling.pdf')\n",
    "plt.show()"
   ]
  },
  {
   "cell_type": "markdown",
   "metadata": {},
   "source": [
    "# Mutual Information"
   ]
  },
  {
   "cell_type": "code",
   "execution_count": 8,
   "metadata": {
    "collapsed": true
   },
   "outputs": [],
   "source": [
    "mu = np.array([0., 0.])\n",
    "var = np.array([[1., 1.]])\n",
    "rho = .5\n",
    "cov = rho * var.T.dot(var)\n",
    "cov = np.diag(np.squeeze(var)) + cov-np.diag(np.diag(cov))\n",
    "mi = -0.5 * np.log(1.-rho**2)"
   ]
  },
  {
   "cell_type": "code",
   "execution_count": 25,
   "metadata": {
    "collapsed": true
   },
   "outputs": [],
   "source": [
    "n_repeat = 1000\n",
    "n = np.logspace(1, 4, 15, dtype=int)\n",
    "mi_u = np.zeros((n.size, n_repeat))\n",
    "mi_l = np.zeros((n.size, n_repeat))\n",
    "mi_k1 = np.zeros((n.size, n_repeat))\n",
    "mi_k2 = np.zeros((n.size, n_repeat))"
   ]
  },
  {
   "cell_type": "code",
   "execution_count": 26,
   "metadata": {
    "collapsed": true,
    "scrolled": true
   },
   "outputs": [],
   "source": [
    "reload(kt)\n",
    "reload(ksg)\n",
    "for ii, ns in enumerate(n):\n",
    "    for jj in range(n_repeat):\n",
    "        x = np.random.multivariate_normal(mu, cov, size=ns)\n",
    "        ksg_estimator = ksg.MutualInformation(x[:,0][:, np.newaxis], x[:,1][:, np.newaxis])\n",
    "        kt_estimator = kt.MutualInformation(x[:,0][:, np.newaxis], x[:,1][:, np.newaxis], symmetric=True)\n",
    "        #mi_u[ii, jj] = kt_estimator.mutual_information(lower=False)\n",
    "        #mi_l[ii, jj] = kt_estimator.mutual_information()\n",
    "        mi_k1[ii, jj] = ksg_estimator.mutual_information(kind=1)\n",
    "        #mi_k1[ii, jj] = mi_Kraskov(x[:,0][:, np.newaxis], x[:,1][:, np.newaxis])\n",
    "        mi_k2[ii, jj] = ksg_estimator.mutual_information(kind=2)\n",
    "        #break\n",
    "    #break"
   ]
  },
  {
   "cell_type": "code",
   "execution_count": 27,
   "metadata": {},
   "outputs": [
    {
     "data": {
      "image/png": "[encoded data removed]",
      "text/plain": [
       "<matplotlib.figure.Figure at 0x7f47363b59e8>"
      ]
     },
     "metadata": {},
     "output_type": "display_data"
    }
   ],
   "source": [
    "f = plt.figure()\n",
    "true = np.ones((n.size, n_repeat)) * mi\n",
    "for x, name in zip([true, mi_k1, mi_k2], ['true', 'ek1', 'ek2']):\n",
    "    plt.plot(1./n, np.median(x, axis=-1), label=name, c=cs[name])\n",
    "    if name != 'true':\n",
    "        plt.fill_between(1./n, np.percentile(x, 2.5, axis=-1), np.percentile(x, 97.5, axis=-1),\n",
    "                         facecolor=cs[name], alpha=.2)\n",
    "\n",
    "plt.ylim(0, None)\n",
    "plt.xscale('log')\n",
    "plt.ylabel('MI')\n",
    "plt.xlabel('1/n_samples')\n",
    "plt.legend()\n",
    "plt.savefig(os.path.join(os.environ['HOME'], 'Downloads/mi_data_scaling.pdf'))\n",
    "plt.show()"
   ]
  },
  {
   "cell_type": "code",
   "execution_count": null,
   "metadata": {},
   "outputs": [],
   "source": [
    "mi"
   ]
  },
  {
   "cell_type": "markdown",
   "metadata": {},
   "source": [
    "# MI implementation"
   ]
  },
  {
   "cell_type": "code",
   "execution_count": null,
   "metadata": {
    "collapsed": true
   },
   "outputs": [],
   "source": [
    "import scipy.spatial as ss\n",
    "from scipy.special import digamma\n",
    "from math import log\n",
    "import numpy as np\n",
    "from matplotlib import patches"
   ]
  },
  {
   "cell_type": "code",
   "execution_count": null,
   "metadata": {
    "collapsed": true
   },
   "outputs": [],
   "source": [
    "x = np.random.randn(100, 1)\n",
    "y = np.random.randn(100, 1)\n",
    "z = np.concatenate([x, y], axis=1)"
   ]
  },
  {
   "cell_type": "code",
   "execution_count": null,
   "metadata": {
    "collapsed": true
   },
   "outputs": [],
   "source": [
    "tree = ss.cKDTree(z)\n",
    "xtree = ss.cKDTree(x)\n",
    "ytree = ss.cKDTree(y)"
   ]
  },
  {
   "cell_type": "code",
   "execution_count": null,
   "metadata": {},
   "outputs": [],
   "source": [
    "%timeit tree.query(x, 3+1, n_jobs=-1)[0][:, 3]"
   ]
  },
  {
   "cell_type": "code",
   "execution_count": null,
   "metadata": {},
   "outputs": [],
   "source": [
    "%timeit [tree.query(xi, 3+1, n_jobs=-1)[0][3] for xi in x]"
   ]
  },
  {
   "cell_type": "code",
   "execution_count": null,
   "metadata": {},
   "outputs": [],
   "source": [
    "np.allclose(tree.query(x, 3+1)[0][:, 3], np.array([tree.query(xi, 3+1)[0][3] for xi in x]))"
   ]
  },
  {
   "cell_type": "markdown",
   "metadata": {},
   "source": [
    "# I1 I2 viz"
   ]
  },
  {
   "cell_type": "code",
   "execution_count": 28,
   "metadata": {
    "collapsed": true
   },
   "outputs": [],
   "source": [
    "Z = np.array([[0., 0.]])\n",
    "Z = np.concatenate([Z, np.random.randn(15, 2)], axis=0)\n",
    "X = Z[:, [0]]\n",
    "Y = Z[:, [1]]"
   ]
  },
  {
   "cell_type": "code",
   "execution_count": 29,
   "metadata": {
    "collapsed": true
   },
   "outputs": [],
   "source": [
    "k = 3\n",
    "tree = ss.cKDTree(Z)\n",
    "Xtree = ss.cKDTree(X)\n",
    "Ytree = ss.cKDTree(Y)"
   ]
  },
  {
   "cell_type": "markdown",
   "metadata": {},
   "source": [
    "## I1"
   ]
  },
  {
   "cell_type": "code",
   "execution_count": 30,
   "metadata": {
    "collapsed": true,
    "scrolled": true
   },
   "outputs": [],
   "source": [
    "reload(ksg)\n",
    "dvec_idx = tree.query(Z, k + 1, p=np.inf)[1][:, k]\n",
    "dvec = tree.query(Z, k + 1, p=np.inf)[0][:, k]\n",
    "xidxs = sorted(Xtree.query_ball_point(X[0], dvec[0] - 1e-15, p=float('inf')))[1:]\n",
    "yidxs = sorted(Ytree.query_ball_point(Y[0], dvec[0] - 1e-15, p=float('inf')))[1:]"
   ]
  },
  {
   "cell_type": "code",
   "execution_count": 31,
   "metadata": {},
   "outputs": [
    {
     "ename": "NameError",
     "evalue": "name 'patches' is not defined",
     "output_type": "error",
     "traceback": [
      "\u001b[0;31m---------------------------------------------------------------------------\u001b[0m",
      "\u001b[0;31mNameError\u001b[0m                                 Traceback (most recent call last)",
      "\u001b[0;32m<ipython-input-31-26ced42666e2>\u001b[0m in \u001b[0;36m<module>\u001b[0;34m()\u001b[0m\n\u001b[1;32m      8\u001b[0m \u001b[0max\u001b[0m\u001b[0;34m.\u001b[0m\u001b[0mscatter\u001b[0m\u001b[0;34m(\u001b[0m\u001b[0mZ\u001b[0m\u001b[0;34m[\u001b[0m\u001b[0mdvec_idx\u001b[0m\u001b[0;34m[\u001b[0m\u001b[0;36m0\u001b[0m\u001b[0;34m]\u001b[0m\u001b[0;34m,\u001b[0m\u001b[0;36m0\u001b[0m\u001b[0;34m]\u001b[0m\u001b[0;34m,\u001b[0m \u001b[0mZ\u001b[0m\u001b[0;34m[\u001b[0m\u001b[0mdvec_idx\u001b[0m\u001b[0;34m[\u001b[0m\u001b[0;36m0\u001b[0m\u001b[0;34m]\u001b[0m\u001b[0;34m,\u001b[0m\u001b[0;36m1\u001b[0m\u001b[0;34m]\u001b[0m\u001b[0;34m,\u001b[0m \u001b[0mmarker\u001b[0m\u001b[0;34m=\u001b[0m\u001b[0;34m'x'\u001b[0m\u001b[0;34m,\u001b[0m \u001b[0mcolor\u001b[0m\u001b[0;34m=\u001b[0m\u001b[0;34m'orange'\u001b[0m\u001b[0;34m,\u001b[0m \u001b[0mlabel\u001b[0m\u001b[0;34m=\u001b[0m\u001b[0;34m'z k-nn'\u001b[0m\u001b[0;34m)\u001b[0m\u001b[0;34m\u001b[0m\u001b[0m\n\u001b[1;32m      9\u001b[0m \u001b[0mZ_norm\u001b[0m \u001b[0;34m=\u001b[0m \u001b[0mdvec\u001b[0m\u001b[0;34m[\u001b[0m\u001b[0;36m0\u001b[0m\u001b[0;34m]\u001b[0m \u001b[0;31m#np.linalg.norm(Z[xidxs[0]], ord=np.inf)\u001b[0m\u001b[0;34m\u001b[0m\u001b[0m\n\u001b[0;32m---> 10\u001b[0;31m \u001b[0mr\u001b[0m \u001b[0;34m=\u001b[0m \u001b[0mpatches\u001b[0m\u001b[0;34m.\u001b[0m\u001b[0mRectangle\u001b[0m\u001b[0;34m(\u001b[0m\u001b[0;34m(\u001b[0m\u001b[0;34m-\u001b[0m\u001b[0mZ_norm\u001b[0m\u001b[0;34m,\u001b[0m \u001b[0;34m-\u001b[0m\u001b[0mZ_norm\u001b[0m\u001b[0;34m)\u001b[0m\u001b[0;34m,\u001b[0m \u001b[0;36m2\u001b[0m\u001b[0;34m*\u001b[0m\u001b[0mZ_norm\u001b[0m\u001b[0;34m,\u001b[0m \u001b[0;36m2\u001b[0m\u001b[0;34m*\u001b[0m\u001b[0mZ_norm\u001b[0m\u001b[0;34m,\u001b[0m \u001b[0mfacecolor\u001b[0m\u001b[0;34m=\u001b[0m\u001b[0;34m'None'\u001b[0m\u001b[0;34m,\u001b[0m \u001b[0medgecolor\u001b[0m\u001b[0;34m=\u001b[0m\u001b[0;34m'r'\u001b[0m\u001b[0;34m)\u001b[0m\u001b[0;34m\u001b[0m\u001b[0m\n\u001b[0m\u001b[1;32m     11\u001b[0m \u001b[0max\u001b[0m\u001b[0;34m.\u001b[0m\u001b[0madd_artist\u001b[0m\u001b[0;34m(\u001b[0m\u001b[0mr\u001b[0m\u001b[0;34m)\u001b[0m\u001b[0;34m\u001b[0m\u001b[0m\n\u001b[1;32m     12\u001b[0m \u001b[0max\u001b[0m\u001b[0;34m.\u001b[0m\u001b[0maxhline\u001b[0m\u001b[0;34m(\u001b[0m\u001b[0mdvec\u001b[0m\u001b[0;34m[\u001b[0m\u001b[0;36m0\u001b[0m\u001b[0;34m]\u001b[0m\u001b[0;34m,\u001b[0m \u001b[0;36m0\u001b[0m\u001b[0;34m,\u001b[0m \u001b[0;36m1\u001b[0m\u001b[0;34m,\u001b[0m \u001b[0mcolor\u001b[0m\u001b[0;34m=\u001b[0m\u001b[0;34m'purple'\u001b[0m\u001b[0;34m,\u001b[0m \u001b[0malpha\u001b[0m\u001b[0;34m=\u001b[0m\u001b[0;36m.5\u001b[0m\u001b[0;34m,\u001b[0m \u001b[0mlabel\u001b[0m\u001b[0;34m=\u001b[0m\u001b[0;34mr'$\\epsilon_y$'\u001b[0m\u001b[0;34m)\u001b[0m\u001b[0;34m\u001b[0m\u001b[0m\n",
      "\u001b[0;31mNameError\u001b[0m: name 'patches' is not defined"
     ]
    },
    {
     "data": {
      "image/png": "[encoded data removed]",
      "text/plain": [
       "<matplotlib.figure.Figure at 0x7f473628c1d0>"
      ]
     },
     "metadata": {},
     "output_type": "display_data"
    }
   ],
   "source": [
    "f, ax = plt.subplots(1, figsize=(10, 10))\n",
    "ax.set_xlim(-3, 3)\n",
    "ax.set_ylim(-3, 3)\n",
    "ax.scatter(Z[xidxs,0], Z[xidxs,1], marker='o', color='green', alpha=.2, s=200, label=r'$\\in n_x$')\n",
    "ax.scatter(Z[yidxs,0], Z[yidxs,1], marker='o', color='purple', alpha=.2, s=500, label=r'$\\in n_y$')\n",
    "ax.scatter(Z[1:,0], Z[1:,1], marker='.', color='k')\n",
    "ax.scatter(Z[0,0], Z[0,1], marker='x', color='red', label='poi')\n",
    "ax.scatter(Z[dvec_idx[0],0], Z[dvec_idx[0],1], marker='x', color='orange', label='z k-nn')\n",
    "Z_norm = dvec[0]\n",
    "r = patches.Rectangle((-Z_norm, -Z_norm), 2*Z_norm, 2*Z_norm, facecolor='None', edgecolor='r')\n",
    "ax.add_artist(r)\n",
    "ax.axhline(dvec[0], 0, 1, color='purple', alpha=.5, label=r'$\\epsilon_y$')\n",
    "ax.axhline(-dvec[0], 0, 1, color='purple', alpha=.5)\n",
    "ax.axvline(dvec[0], 0, 1, color='green', alpha=.5, label=r'$\\epsilon_x$')\n",
    "ax.axvline(-dvec[0], 0, 1, color='green', alpha=.5)\n",
    "ax.legend()"
   ]
  },
  {
   "cell_type": "markdown",
   "metadata": {},
   "source": [
    "## I2"
   ]
  },
  {
   "cell_type": "code",
   "execution_count": null,
   "metadata": {
    "collapsed": true
   },
   "outputs": [],
   "source": [
    "didx = tree.query(Z, k + 1, p=float('inf'))[1][:, 1:]\n",
    "Xdvec = [np.linalg.norm(xi[np.newaxis]-self.X[idxs], ord=np.inf, axis=-1).max() for xi, idxs in zip(self.X, didxs)]\n",
    "Ydvec = [np.linalg.norm(yi[np.newaxis]-self.Y[idxs], ord=np.inf, axis=-1).max() for yi, idxs in zip(self.Y, didxs)]\n",
    "xidxs = sorted(Xtree.query_ball_point(X[0], Xdvec[0], p=float('inf')))[1:]\n",
    "yidxs = sorted(Ytree.query_ball_point(Y[0], Ydvec[0], p=float('inf')))[1:]"
   ]
  },
  {
   "cell_type": "code",
   "execution_count": null,
   "metadata": {},
   "outputs": [],
   "source": [
    "f, ax = plt.subplots(1, figsize=(10, 10))\n",
    "ax.set_xlim(-3, 3)\n",
    "ax.set_ylim(-3, 3)\n",
    "ax.scatter(Z[xidxs,0], Z[xidxs,1], marker='o', color='green', alpha=.2, s=200, label=r'$\\in n_x$')\n",
    "ax.scatter(Z[yidxs,0], Z[yidxs,1], marker='o', color='purple', alpha=.2, s=500, label=r'$\\in n_y$')\n",
    "ax.scatter(Z[1:,0], Z[1:,1], marker='.', color='k')\n",
    "ax.scatter(Z[0,0], Z[0,1], marker='x', color='red', label='poi')\n",
    "ax.scatter(Z[didx[0],0], Z[didx[0],1], marker='x', color='orange', label='z k-nn')\n",
    "Z_norm = np.linalg.norm(Z[didx[0]], ord=np.inf)\n",
    "r = patches.Rectangle((-Z_norm, -Z_norm), 2*Z_norm, 2*Z_norm, facecolor='None', edgecolor='r')\n",
    "ax.add_artist(r)\n",
    "ax.axhline(Ydvec[0], 0, 1, color='purple', alpha=.5, label=r'$\\epsilon_y$')\n",
    "ax.axhline(-Ydvec[0], 0, 1, color='purple', alpha=.5)\n",
    "ax.axvline(Xdvec[0], 0, 1, color='green', alpha=.5, label=r'$\\epsilon_x$')\n",
    "ax.axvline(-Xdvec[0], 0, 1, color='green', alpha=.5)\n",
    "ax.legend()"
   ]
  },
  {
   "cell_type": "markdown",
   "metadata": {
    "collapsed": true
   },
   "source": [
    "# Mixture Models"
   ]
  },
  {
   "cell_type": "code",
   "execution_count": null,
   "metadata": {
    "collapsed": true
   },
   "outputs": [],
   "source": [
    "from science_nets.numpy import gaussian_mixture"
   ]
  },
  {
   "cell_type": "code",
   "execution_count": null,
   "metadata": {
    "collapsed": true
   },
   "outputs": [],
   "source": [
    "reload(gaussian_mixture)\n",
    "m = gaussian_mixture.GaussianMixture(5, 2, 3., .05)"
   ]
  },
  {
   "cell_type": "code",
   "execution_count": null,
   "metadata": {},
   "outputs": [],
   "source": [
    "m.eval_p(np.random.randn(10, 2))"
   ]
  },
  {
   "cell_type": "code",
   "execution_count": null,
   "metadata": {},
   "outputs": [],
   "source": [
    "m.sample(10)    "
   ]
  },
  {
   "cell_type": "code",
   "execution_count": null,
   "metadata": {},
   "outputs": [],
   "source": [
    "m.sample_entropy(1000)"
   ]
  },
  {
   "cell_type": "code",
   "execution_count": null,
   "metadata": {
    "collapsed": true
   },
   "outputs": [],
   "source": [
    "x = []\n",
    "y = []\n",
    "y2 = []\n",
    "for xi in np.logspace(2, 5, 100, dtype=int):\n",
    "    x.append(xi)\n",
    "    samples, yi = m.sample_entropy(xi)\n",
    "    y.append(yi)\n",
    "    y2.append(ksg.Entropy(samples).entropy())"
   ]
  },
  {
   "cell_type": "code",
   "execution_count": null,
   "metadata": {},
   "outputs": [],
   "source": [
    "plt.plot(1/np.array(x), y)\n",
    "plt.plot(1/np.array(x), y2)\n",
    "plt.xscale('log')"
   ]
  },
  {
   "cell_type": "code",
   "execution_count": null,
   "metadata": {},
   "outputs": [],
   "source": [
    "plt.scatter(*samples.T, alpha=.005)"
   ]
  },
  {
   "cell_type": "code",
   "execution_count": null,
   "metadata": {
    "collapsed": true
   },
   "outputs": [],
   "source": []
  }
 ],
 "metadata": {
  "kernelspec": {
   "display_name": "Python 3",
   "language": "python",
   "name": "python3"
  },
  "language_info": {
   "codemirror_mode": {
    "name": "ipython",
    "version": 3
   },
   "file_extension": ".py",
   "mimetype": "text/x-python",
   "name": "python",
   "nbconvert_exporter": "python",
   "pygments_lexer": "ipython3",
   "version": "3.5.4"
  }
 },
 "nbformat": 4,
 "nbformat_minor": 2
}
