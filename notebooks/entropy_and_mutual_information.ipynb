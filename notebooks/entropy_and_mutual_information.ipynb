{
 "cells": [
  {
   "cell_type": "code",
   "execution_count": 95,
   "metadata": {
    "collapsed": true
   },
   "outputs": [],
   "source": [
    "import os\n",
    "import numpy as np\n",
    "import matplotlib.pyplot as plt\n",
    "from matplotlib import patches\n",
    "from scipy.stats import multivariate_normal\n",
    "from scipy.special import digamma\n",
    "import scipy.spatial as ss\n",
    "\n",
    "from imp import reload\n",
    "\n",
    "from info_measures.numpy import kolchinsky_tracey as kt\n",
    "from info_measures.numpy import kraskov_stoegbauer_grassberger as ksg\n",
    "\n",
    "%matplotlib inline"
   ]
  },
  {
   "cell_type": "code",
   "execution_count": 96,
   "metadata": {
    "collapsed": true
   },
   "outputs": [],
   "source": [
    "prop_cycle = plt.rcParams['axes.prop_cycle']\n",
    "colors = prop_cycle.by_key()['color']\n",
    "names = ['true', 'upper', 'lower', 'ek1', 'ek2']\n",
    "cs = {n: c for n, c in zip(['true', 'upper', 'lower', 'ek1', 'ek2'], colors)}"
   ]
  },
  {
   "cell_type": "markdown",
   "metadata": {},
   "source": [
    "# Entropy"
   ]
  },
  {
   "cell_type": "code",
   "execution_count": 108,
   "metadata": {
    "collapsed": true
   },
   "outputs": [],
   "source": [
    "dim = 3\n",
    "mu = np.zeros(dim)\n",
    "svar = np.diag(np.power(10., np.arange(dim) - (dim-1.)/2.))"
   ]
  },
  {
   "cell_type": "code",
   "execution_count": 109,
   "metadata": {
    "collapsed": true
   },
   "outputs": [],
   "source": [
    "e = np.asscalar(multivariate_normal(mu, svar).entropy())"
   ]
  },
  {
   "cell_type": "markdown",
   "metadata": {},
   "source": [
    "# Scaling with data"
   ]
  },
  {
   "cell_type": "code",
   "execution_count": 110,
   "metadata": {
    "collapsed": true
   },
   "outputs": [],
   "source": [
    "n_repeat = 10\n",
    "n = np.logspace(1, 3.5, 15, dtype=int)\n",
    "eu = np.zeros((n.size, n_repeat))\n",
    "el = np.zeros((n.size, n_repeat))\n",
    "ek1 = np.zeros((n.size, n_repeat))"
   ]
  },
  {
   "cell_type": "code",
   "execution_count": 111,
   "metadata": {},
   "outputs": [],
   "source": [
    "reload(kt)\n",
    "reload(ksg)\n",
    "for ii, ns in enumerate(n):\n",
    "    for jj in range(n_repeat):\n",
    "        x = np.random.multivariate_normal(mu, svar, size=ns)\n",
    "        kt_estimator = kt.Entropy(x)\n",
    "        ksg_estimator = ksg.Entropy(x)\n",
    "        eu[ii, jj] = kt_estimator.entropy(lower=False)\n",
    "        el[ii, jj] = kt_estimator.entropy(lower=True)\n",
    "        ek1[ii, jj] = ksg_estimator.entropy()"
   ]
  },
  {
   "cell_type": "code",
   "execution_count": 112,
   "metadata": {},
   "outputs": [
    {
     "data": {
      "image/png": "[encoded data removed]",
      "text/plain": [
       "<matplotlib.figure.Figure at 0x7fed9f797780>"
      ]
     },
     "metadata": {},
     "output_type": "display_data"
    }
   ],
   "source": [
    "f = plt.figure()\n",
    "true = np.ones((n.size, n_repeat)) * e\n",
    "for x, name in zip([true, eu, el, ek1], names):\n",
    "    plt.plot(1./n, np.median(x, axis=-1), label=name, c=cs[name])\n",
    "    if name != 'true':\n",
    "        plt.fill_between(1./n, np.percentile(x, 2.5, axis=-1), np.percentile(x, 97.5, axis=-1),\n",
    "                         facecolor=cs[name], alpha=.2)\n",
    "\n",
    "plt.ylim(0, None)\n",
    "plt.xscale('log')\n",
    "plt.ylabel('Entropy')\n",
    "plt.xlabel('1/n_samples')\n",
    "plt.legend()\n",
    "plt.savefig('/home/jesse/Downloads/e_data_scaling.pdf')\n",
    "plt.show()"
   ]
  },
  {
   "cell_type": "markdown",
   "metadata": {},
   "source": [
    "# Scaling with data scale"
   ]
  },
  {
   "cell_type": "code",
   "execution_count": null,
   "metadata": {
    "collapsed": true
   },
   "outputs": [],
   "source": [
    "s = np.logspace(-2, 2, 20)\n",
    "es = [np.asscalar(multivariate_normal(mu, svar*si**2).entropy()) for si in s]\n",
    "eu = np.zeros(s.size)\n",
    "el = np.zeros(s.size)\n",
    "ek1 = np.zeros(s.size)"
   ]
  },
  {
   "cell_type": "code",
   "execution_count": null,
   "metadata": {
    "collapsed": true
   },
   "outputs": [],
   "source": [
    "reload(ee)\n",
    "reload(kt)\n",
    "reload(ksg)\n",
    "ns = 1000\n",
    "x = np.random.multivariate_normal(mu, svar, size=ns)\n",
    "for ii, si in enumerate(s):\n",
    "    kt_estimator = kt.Entropy(si * x)\n",
    "    ksg_estimator = ksg.Entropy(si * x)\n",
    "    eu[ii] = kt_estimator.entropy(lower=False)\n",
    "    el[ii] = kt_estimator.entropy(lower=True)\n",
    "    ek1[ii] = ksg_estimator.entropy()"
   ]
  },
  {
   "cell_type": "code",
   "execution_count": null,
   "metadata": {
    "collapsed": true
   },
   "outputs": [],
   "source": [
    "f = plt.figure()\n",
    "plt.plot(s, es, label='true')\n",
    "plt.plot(s, eu, label='upper')\n",
    "plt.plot(s, el, label='lower')\n",
    "plt.plot(s, ek1, label='ek')\n",
    "plt.xscale('log')\n",
    "plt.ylabel('Entropy')\n",
    "plt.xlabel('scale')\n",
    "plt.legend()\n",
    "plt.savefig('/home/jesse/Downloads/e_data_scale.pdf')\n",
    "plt.show()"
   ]
  },
  {
   "cell_type": "markdown",
   "metadata": {},
   "source": [
    "# Scaling with estimator parameters"
   ]
  },
  {
   "cell_type": "code",
   "execution_count": null,
   "metadata": {
    "collapsed": true
   },
   "outputs": [],
   "source": [
    "n_repeat = 1000\n",
    "varss = np.logspace(-6, 1, 15)\n",
    "ns = 1000\n",
    "eu = np.zeros((varss.size, n_repeat))\n",
    "el = np.zeros((varss.size, n_repeat))\n",
    "for jj in range(n_repeat):\n",
    "    x = np.random.multivariate_normal(mu, svar, size=ns)\n",
    "    kt_estimator = kt.Entropy(x)\n",
    "    for ii, var in enumerate(varss):\n",
    "        eu[ii, jj] = kt_estimator.entropy(var, lower=False)\n",
    "        el[ii, jj] = kt_estimator.entropy(var, lower=True)"
   ]
  },
  {
   "cell_type": "code",
   "execution_count": null,
   "metadata": {
    "collapsed": true
   },
   "outputs": [],
   "source": [
    "f = plt.figure()\n",
    "true = np.ones((varss.size, n_repeat)) * e\n",
    "for x, name in zip([true, eu, el], names):\n",
    "    plt.plot(varss, np.median(x, axis=-1), label=name, c=cs[name])\n",
    "    if name != 'true':\n",
    "        plt.fill_between(varss, np.percentile(x, 2.5, axis=-1), np.percentile(x, 97.5, axis=-1),\n",
    "                         facecolor=cs[name], alpha=.2)\n",
    "\n",
    "plt.ylim(0, None)\n",
    "plt.ylabel('Entropy')\n",
    "plt.xlabel('var')\n",
    "plt.xscale('log')\n",
    "plt.legend()\n",
    "plt.savefig('/home/jesse/Downloads/e_el_param_scaling.pdf')\n",
    "plt.show()\n",
    "\n",
    "\"\"\"\n",
    "logx = np.log(varss)\n",
    "p = np.polyfit(logx, eu, deg=3)\n",
    "xu = np.exp(-p[::-1][2] / 3. / p[::-1][3])\n",
    "eup = np.polyval(p, logx)\n",
    "#plt.semilogx(varss, eup, label='upper3')\n",
    "p = np.polyfit(logx, el, deg=3)\n",
    "xl = np.exp(-p[::-1][2] / 3. / p[::-1][3])\n",
    "elp = np.polyval(p, logx)\n",
    "xa = .5*xu + .5*xl\n",
    "#plt.axvline(xa, 0, 1, c='gray')\n",
    "#plt.semilogx(varss, elp, label='lower3')\n",
    "\"\"\""
   ]
  },
  {
   "cell_type": "markdown",
   "metadata": {},
   "source": [
    "## Animation"
   ]
  },
  {
   "cell_type": "code",
   "execution_count": null,
   "metadata": {
    "collapsed": true
   },
   "outputs": [],
   "source": [
    "from matplotlib import animation, rc\n",
    "from IPython.display import HTML"
   ]
  },
  {
   "cell_type": "code",
   "execution_count": null,
   "metadata": {
    "collapsed": true
   },
   "outputs": [],
   "source": [
    "f, (ax0, ax1) = plt.subplots(1, 2, figsize=(10, 5))\n",
    "\n",
    "ns = 100\n",
    "varss = np.logspace(-6, 1, 15)\n",
    "dim = 1\n",
    "mu = np.zeros(dim)\n",
    "svar = np.diag(np.power(10., np.arange(dim) - (dim-1.)/2.))\n",
    "x = np.random.multivariate_normal(mu, svar, size=ns)\n",
    "kt_estimator = kt.Entropy(x)\n",
    "e = np.asscalar(multivariate_normal(mu, svar).entropy())\n",
    "xlims = abs(x).max() * 1.1\n",
    "x_pts = np.linspace(-xlims, xlims, 10000)\n",
    "\n",
    "def plot_bumps(x, x_pts, var):\n",
    "    n = len(x)\n",
    "    y = np.zeros_like(x_pts)\n",
    "    for xi in x:\n",
    "        y += np.exp(-(x_pts - xi)**2 / (2. * var)) / n / np.sqrt(2. * np.pi * var)\n",
    "    return y\n",
    "\n",
    "true_pdf = plot_bumps([0], x_pts, svar[0, 0])\n",
    "\n",
    "pdfs = np.zeros((varss.size, x_pts.size))\n",
    "for ii, var in enumerate(varss):\n",
    "    pdfs[ii] = plot_bumps(x, x_pts, var)\n",
    "\n",
    "eu = np.zeros(varss.size)\n",
    "el = np.zeros(varss.size)\n",
    "for ii, var in enumerate(varss):\n",
    "    eu[ii] = kt_estimator.entropy(var, lower=False)\n",
    "    el[ii] = kt_estimator.entropy(var, lower=True)\n",
    "\n",
    "line0, = ax0.plot([], [], c='k')\n",
    "line1, = ax1.plot([], [], c=cs['upper'], label='upper')\n",
    "line2, = ax1.plot([], [], c=cs['lower'], label='lower')\n",
    "ax1.plot([varss[0], varss[-1]], [e, e])\n",
    "ax1.legend()\n",
    "ax0.plot(x_pts, true_pdf, c=cs['true'])\n",
    "ax0.set_ylim(true_pdf.min(), pdfs.max())\n",
    "ax0.set_xlim(-xlims, xlims)\n",
    "ax0.set_yscale('log')\n",
    "ax1.set_ylim(0, eu.max())\n",
    "ax1.set_xscale('log')\n",
    "ax1.set_xlim(varss[0], varss[-1])\n",
    "\n",
    "ax0.set_xlabel('x')\n",
    "ax0.set_ylabel('p(x)')\n",
    "ax1.set_xlabel('var')\n",
    "ax1.set_ylabel('Entropy')\n",
    "\n",
    "def init():\n",
    "    line0.set_data([], [])\n",
    "    line1.set_data([], [])\n",
    "    line2.set_data([], [])\n",
    "    return (line0, line1, line2)\n",
    "    \n",
    "def animate(ii):\n",
    "    if ii == 0:\n",
    "        xvar = varss[0]\n",
    "        yu = eu[0]\n",
    "        yl = el[0]\n",
    "    else:\n",
    "        xvar = varss[:ii]\n",
    "        yu = eu[:ii]\n",
    "        yl = el[:ii]\n",
    "    line0.set_data(x_pts, pdfs[ii])\n",
    "    line1.set_data(xvar, yu)\n",
    "    line2.set_data(xvar, yl)\n",
    "    return (line0, line1, line2)"
   ]
  },
  {
   "cell_type": "code",
   "execution_count": null,
   "metadata": {
    "collapsed": true
   },
   "outputs": [],
   "source": [
    "anim = animation.FuncAnimation(f, animate, init_func=init,\n",
    "                               frames=varss.size, interval=500,\n",
    "                               blit=True)"
   ]
  },
  {
   "cell_type": "code",
   "execution_count": null,
   "metadata": {
    "collapsed": true
   },
   "outputs": [],
   "source": [
    "HTML(anim.to_html5_video())"
   ]
  },
  {
   "cell_type": "code",
   "execution_count": null,
   "metadata": {
    "collapsed": true
   },
   "outputs": [],
   "source": [
    "anim.save('/home/jesse/Downloads/anim.mp4')"
   ]
  },
  {
   "cell_type": "code",
   "execution_count": null,
   "metadata": {
    "collapsed": true
   },
   "outputs": [],
   "source": [
    "anim.to_html5_video?"
   ]
  },
  {
   "cell_type": "code",
   "execution_count": null,
   "metadata": {
    "collapsed": true
   },
   "outputs": [],
   "source": [
    "n_repeat = 1000\n",
    "ks = np.arange(1, 15)\n",
    "ns = 1000\n",
    "ek = np.zeros((ks.size, n_repeat))\n",
    "for jj in range(n_repeat):\n",
    "    x = np.random.multivariate_normal(mu, svar, size=ns)\n",
    "    ksg_estimator = ksg.Entropy(x)\n",
    "    for ii, k in enumerate(ks):\n",
    "        ek[ii, jj] = ksg_estimator.entropy(k)"
   ]
  },
  {
   "cell_type": "code",
   "execution_count": null,
   "metadata": {
    "collapsed": true
   },
   "outputs": [],
   "source": [
    "f = plt.figure()\n",
    "true = np.ones((ks.size, n_repeat)) * e\n",
    "for x, name in zip([true, ek], ['true', 'ek1']):\n",
    "    plt.plot(ks, np.median(x, axis=-1), label=name, c=cs[name])\n",
    "    if name != 'true':\n",
    "        plt.fill_between(ks, np.percentile(x, 2.5, axis=-1), np.percentile(x, 97.5, axis=-1),\n",
    "                         facecolor=cs[name], alpha=.2)\n",
    "\n",
    "plt.ylim(0, None)\n",
    "plt.ylabel('Entropy')\n",
    "plt.xlabel('k')\n",
    "plt.legend()\n",
    "plt.savefig('/home/jesse/Downloads/e_kvar_param_scaling.pdf')\n",
    "plt.show()"
   ]
  },
  {
   "cell_type": "markdown",
   "metadata": {},
   "source": [
    "# Mutual Information"
   ]
  },
  {
   "cell_type": "code",
   "execution_count": 8,
   "metadata": {
    "collapsed": true
   },
   "outputs": [],
   "source": [
    "mu = np.array([0., 0.])\n",
    "var = np.array([[1., 1.]])\n",
    "rho = .5\n",
    "cov = rho * var.T.dot(var)\n",
    "cov = np.diag(np.squeeze(var)) + cov-np.diag(np.diag(cov))\n",
    "mi = -0.5 * np.log(1.-rho**2)"
   ]
  },
  {
   "cell_type": "code",
   "execution_count": 25,
   "metadata": {
    "collapsed": true
   },
   "outputs": [],
   "source": [
    "n_repeat = 1000\n",
    "n = np.logspace(1, 4, 15, dtype=int)\n",
    "mi_u = np.zeros((n.size, n_repeat))\n",
    "mi_l = np.zeros((n.size, n_repeat))\n",
    "mi_k1 = np.zeros((n.size, n_repeat))\n",
    "mi_k2 = np.zeros((n.size, n_repeat))"
   ]
  },
  {
   "cell_type": "code",
   "execution_count": 26,
   "metadata": {
    "collapsed": true,
    "scrolled": true
   },
   "outputs": [],
   "source": [
    "reload(kt)\n",
    "reload(ksg)\n",
    "for ii, ns in enumerate(n):\n",
    "    for jj in range(n_repeat):\n",
    "        x = np.random.multivariate_normal(mu, cov, size=ns)\n",
    "        ksg_estimator = ksg.MutualInformation(x[:,0][:, np.newaxis], x[:,1][:, np.newaxis])\n",
    "        kt_estimator = kt.MutualInformation(x[:,0][:, np.newaxis], x[:,1][:, np.newaxis], symmetric=True)\n",
    "        #mi_u[ii, jj] = kt_estimator.mutual_information(lower=False)\n",
    "        #mi_l[ii, jj] = kt_estimator.mutual_information()\n",
    "        mi_k1[ii, jj] = ksg_estimator.mutual_information(kind=1)\n",
    "        #mi_k1[ii, jj] = mi_Kraskov(x[:,0][:, np.newaxis], x[:,1][:, np.newaxis])\n",
    "        mi_k2[ii, jj] = ksg_estimator.mutual_information(kind=2)\n",
    "        #break\n",
    "    #break"
   ]
  },
  {
   "cell_type": "code",
   "execution_count": 27,
   "metadata": {},
   "outputs": [
    {
     "data": {
      "image/png": "[encoded data removed]",
      "text/plain": [
       "<matplotlib.figure.Figure at 0x7f47363b59e8>"
      ]
     },
     "metadata": {},
     "output_type": "display_data"
    }
   ],
   "source": [
    "f = plt.figure()\n",
    "true = np.ones((n.size, n_repeat)) * mi\n",
    "for x, name in zip([true, mi_k1, mi_k2], ['true', 'ek1', 'ek2']):\n",
    "    plt.plot(1./n, np.median(x, axis=-1), label=name, c=cs[name])\n",
    "    if name != 'true':\n",
    "        plt.fill_between(1./n, np.percentile(x, 2.5, axis=-1), np.percentile(x, 97.5, axis=-1),\n",
    "                         facecolor=cs[name], alpha=.2)\n",
    "\n",
    "plt.ylim(0, None)\n",
    "plt.xscale('log')\n",
    "plt.ylabel('MI')\n",
    "plt.xlabel('1/n_samples')\n",
    "plt.legend()\n",
    "plt.savefig(os.path.join(os.environ['HOME'], 'Downloads/mi_data_scaling.pdf'))\n",
    "plt.show()"
   ]
  },
  {
   "cell_type": "code",
   "execution_count": null,
   "metadata": {
    "collapsed": true
   },
   "outputs": [],
   "source": [
    "mi"
   ]
  },
  {
   "cell_type": "markdown",
   "metadata": {},
   "source": [
    "# MI implementation"
   ]
  },
  {
   "cell_type": "code",
   "execution_count": null,
   "metadata": {
    "collapsed": true
   },
   "outputs": [],
   "source": [
    "x = np.random.randn(100, 1)\n",
    "y = np.random.randn(100, 1)\n",
    "z = np.concatenate([x, y], axis=1)"
   ]
  },
  {
   "cell_type": "code",
   "execution_count": null,
   "metadata": {
    "collapsed": true
   },
   "outputs": [],
   "source": [
    "tree = ss.cKDTree(z)\n",
    "xtree = ss.cKDTree(x)\n",
    "ytree = ss.cKDTree(y)"
   ]
  },
  {
   "cell_type": "code",
   "execution_count": null,
   "metadata": {
    "collapsed": true
   },
   "outputs": [],
   "source": [
    "%timeit tree.query(x, 3+1, n_jobs=-1)[0][:, 3]"
   ]
  },
  {
   "cell_type": "code",
   "execution_count": null,
   "metadata": {
    "collapsed": true
   },
   "outputs": [],
   "source": [
    "%timeit [tree.query(xi, 3+1, n_jobs=-1)[0][3] for xi in x]"
   ]
  },
  {
   "cell_type": "code",
   "execution_count": null,
   "metadata": {
    "collapsed": true
   },
   "outputs": [],
   "source": [
    "np.allclose(tree.query(x, 3+1)[0][:, 3], np.array([tree.query(xi, 3+1)[0][3] for xi in x]))"
   ]
  },
  {
   "cell_type": "markdown",
   "metadata": {},
   "source": [
    "# I1 I2 viz"
   ]
  },
  {
   "cell_type": "code",
   "execution_count": 10,
   "metadata": {
    "collapsed": true
   },
   "outputs": [],
   "source": [
    "Z = np.array([[0., 0.]])\n",
    "Z = np.concatenate([Z, np.random.randn(15, 2)], axis=0)\n",
    "X = Z[:, [0]]\n",
    "Y = Z[:, [1]]"
   ]
  },
  {
   "cell_type": "code",
   "execution_count": 11,
   "metadata": {
    "collapsed": true
   },
   "outputs": [],
   "source": [
    "k = 3\n",
    "tree = ss.cKDTree(Z)\n",
    "Xtree = ss.cKDTree(X)\n",
    "Ytree = ss.cKDTree(Y)"
   ]
  },
  {
   "cell_type": "markdown",
   "metadata": {},
   "source": [
    "## I1"
   ]
  },
  {
   "cell_type": "code",
   "execution_count": 12,
   "metadata": {
    "collapsed": true,
    "scrolled": true
   },
   "outputs": [],
   "source": [
    "reload(ksg)\n",
    "dvec_idx = tree.query(Z, k + 1, p=np.inf)[1][:, k]\n",
    "dvec = tree.query(Z, k + 1, p=np.inf)[0][:, k]\n",
    "xidxs = sorted(Xtree.query_ball_point(X[0], dvec[0] - 1e-15, p=float('inf')))[1:]\n",
    "yidxs = sorted(Ytree.query_ball_point(Y[0], dvec[0] - 1e-15, p=float('inf')))[1:]"
   ]
  },
  {
   "cell_type": "code",
   "execution_count": 13,
   "metadata": {},
   "outputs": [
    {
     "data": {
      "text/plain": [
       "<matplotlib.legend.Legend at 0x7fed95907b70>"
      ]
     },
     "execution_count": 13,
     "metadata": {},
     "output_type": "execute_result"
    },
    {
     "data": {
      "image/png": "[encoded data removed]",
      "text/plain": [
       "<matplotlib.figure.Figure at 0x7fed9576a7b8>"
      ]
     },
     "metadata": {},
     "output_type": "display_data"
    }
   ],
   "source": [
    "f, ax = plt.subplots(1, figsize=(10, 10))\n",
    "ax.set_xlim(-3, 3)\n",
    "ax.set_ylim(-3, 3)\n",
    "ax.scatter(Z[xidxs,0], Z[xidxs,1], marker='o', color='green', alpha=.2, s=200, label=r'$\\in n_x$')\n",
    "ax.scatter(Z[yidxs,0], Z[yidxs,1], marker='o', color='purple', alpha=.2, s=500, label=r'$\\in n_y$')\n",
    "ax.scatter(Z[1:,0], Z[1:,1], marker='.', color='k')\n",
    "ax.scatter(Z[0,0], Z[0,1], marker='x', color='red', label='poi')\n",
    "ax.scatter(Z[dvec_idx[0],0], Z[dvec_idx[0],1], marker='x', color='orange', label='z k-nn')\n",
    "Z_norm = dvec[0]\n",
    "r = patches.Rectangle((-Z_norm, -Z_norm), 2*Z_norm, 2*Z_norm, facecolor='None', edgecolor='r')\n",
    "ax.add_artist(r)\n",
    "ax.axhline(dvec[0], 0, 1, color='purple', alpha=.5, label=r'$\\epsilon_y$')\n",
    "ax.axhline(-dvec[0], 0, 1, color='purple', alpha=.5)\n",
    "ax.axvline(dvec[0], 0, 1, color='green', alpha=.5, label=r'$\\epsilon_x$')\n",
    "ax.axvline(-dvec[0], 0, 1, color='green', alpha=.5)\n",
    "ax.legend()"
   ]
  },
  {
   "cell_type": "markdown",
   "metadata": {},
   "source": [
    "## I2"
   ]
  },
  {
   "cell_type": "code",
   "execution_count": 18,
   "metadata": {},
   "outputs": [],
   "source": [
    "didxs = tree.query(Z, k + 1, p=float('inf'))[1][:, 1:]\n",
    "Xdvec = [np.linalg.norm(xi[np.newaxis]-X[idxs], ord=np.inf, axis=-1).max() for xi, idxs in zip(X, didxs)]\n",
    "Ydvec = [np.linalg.norm(yi[np.newaxis]-Y[idxs], ord=np.inf, axis=-1).max() for yi, idxs in zip(Y, didxs)]\n",
    "Xidxs = [np.linalg.norm(xi[np.newaxis]-X[idxs], ord=np.inf, axis=-1).argmax() for xi, idxs in zip(X, didxs)]\n",
    "Yidxs = [np.linalg.norm(yi[np.newaxis]-Y[idxs], ord=np.inf, axis=-1).argmax() for yi, idxs in zip(Y, didxs)]\n",
    "xidxs = sorted(Xtree.query_ball_point(X[0], Xdvec[0], p=float('inf')))[1:]\n",
    "yidxs = sorted(Ytree.query_ball_point(Y[0], Ydvec[0], p=float('inf')))[1:]"
   ]
  },
  {
   "cell_type": "code",
   "execution_count": 121,
   "metadata": {},
   "outputs": [
    {
     "data": {
      "text/plain": [
       "<matplotlib.legend.Legend at 0x7fed944d4588>"
      ]
     },
     "execution_count": 121,
     "metadata": {},
     "output_type": "execute_result"
    },
    {
     "data": {
      "image/png": "[encoded data removed]",
      "text/plain": [
       "<matplotlib.figure.Figure at 0x7fed941e3ef0>"
      ]
     },
     "metadata": {},
     "output_type": "display_data"
    }
   ],
   "source": [
    "f, ax = plt.subplots(1, figsize=(10, 10))\n",
    "ax.set_xlim(-3, 3)\n",
    "ax.set_ylim(-3, 3)\n",
    "ax.scatter(Z[xidxs,0], Z[xidxs,1], marker='o', color='green', alpha=.2, s=200, label=r'$\\in n_x$')\n",
    "ax.scatter(Z[yidxs,0], Z[yidxs,1], marker='o', color='purple', alpha=.2, s=500, label=r'$\\in n_y$')\n",
    "ax.scatter(Z[1:,0], Z[1:,1], marker='.', color='k')\n",
    "ax.scatter(Z[0,0], Z[0,1], marker='x', color='red', label='poi')\n",
    "xidx = didxs[0, Xidxs[0]]\n",
    "yidx = didxs[0, Xidxs[0]]\n",
    "ax.scatter(Z[xidx,0], Z[xidx,1], marker='x', color='orange', label='z k-nn')\n",
    "ax.scatter(Z[yidx,0], Z[yidx,1], marker='x', color='orange')\n",
    "Z_norm = np.linalg.norm(Z[didxs[0, -1]], ord=np.inf)\n",
    "r = patches.Rectangle((-Z_norm, -Z_norm), 2*Z_norm, 2*Z_norm, facecolor='None', edgecolor='r')\n",
    "ax.add_artist(r)\n",
    "ax.axhline(Ydvec[0], 0, 1, color='purple', alpha=.5, label=r'$\\epsilon_y$')\n",
    "ax.axhline(-Ydvec[0], 0, 1, color='purple', alpha=.5)\n",
    "ax.axvline(Xdvec[0], 0, 1, color='green', alpha=.5, label=r'$\\epsilon_x$')\n",
    "ax.axvline(-Xdvec[0], 0, 1, color='green', alpha=.5)\n",
    "ax.legend()"
   ]
  },
  {
   "cell_type": "markdown",
   "metadata": {
    "collapsed": true
   },
   "source": [
    "# Mixture Models"
   ]
  },
  {
   "cell_type": "code",
   "execution_count": 21,
   "metadata": {
    "collapsed": true
   },
   "outputs": [],
   "source": [
    "from info_measures.numpy import gaussian_mixture"
   ]
  },
  {
   "cell_type": "markdown",
   "metadata": {},
   "source": [
    "## Entropy"
   ]
  },
  {
   "cell_type": "code",
   "execution_count": 117,
   "metadata": {},
   "outputs": [],
   "source": [
    "reload(gaussian_mixture)\n",
    "m = gaussian_mixture.GaussianMixture(7, 5, 1., .1)\n",
    "mu = m.center[0]\n",
    "e = np.asscalar(multivariate_normal(mu, np.diag(m.var * np.ones_like(mu))).entropy())"
   ]
  },
  {
   "cell_type": "code",
   "execution_count": 118,
   "metadata": {
    "collapsed": true
   },
   "outputs": [],
   "source": [
    "x = []\n",
    "y = []\n",
    "y2 = []\n",
    "for xi in np.logspace(2, 5, 100, dtype=int):\n",
    "    x.append(xi)\n",
    "    samples, yi = m.sample_entropy(xi)\n",
    "    y.append(yi)\n",
    "    y2.append(ksg.Entropy(samples).entropy())"
   ]
  },
  {
   "cell_type": "code",
   "execution_count": 120,
   "metadata": {},
   "outputs": [
    {
     "data": {
      "image/png": "[encoded data removed]",
      "text/plain": [
       "<matplotlib.figure.Figure at 0x7fed941f9518>"
      ]
     },
     "metadata": {},
     "output_type": "display_data"
    }
   ],
   "source": [
    "if mu.size == 1:\n",
    "    plt.plot(1/np.array(x), e *np.ones_like(y), label='true')\n",
    "plt.plot(1/np.array(x), y, label='sampling')\n",
    "plt.plot(1/np.array(x), y2, label='ek')\n",
    "plt.ylim(0, None)\n",
    "plt.legend()\n",
    "plt.xscale('log')"
   ]
  },
  {
   "cell_type": "code",
   "execution_count": 116,
   "metadata": {
    "scrolled": true
   },
   "outputs": [
    {
     "ename": "ValueError",
     "evalue": "Unrecognized marker style [ 0.25823942 -0.32636745  1.36682697 ...,  0.94869849 -1.05985026\n  0.67330146]",
     "output_type": "error",
     "traceback": [
      "\u001b[0;31m---------------------------------------------------------------------------\u001b[0m",
      "\u001b[0;31mValueError\u001b[0m                                Traceback (most recent call last)",
      "\u001b[0;32m~/anaconda3/envs/tensorflow35/lib/python3.5/site-packages/matplotlib/markers.py\u001b[0m in \u001b[0;36mset_marker\u001b[0;34m(self, marker)\u001b[0m\n\u001b[1;32m    264\u001b[0m             \u001b[0;32mtry\u001b[0m\u001b[0;34m:\u001b[0m\u001b[0;34m\u001b[0m\u001b[0m\n\u001b[0;32m--> 265\u001b[0;31m                 \u001b[0mPath\u001b[0m\u001b[0;34m(\u001b[0m\u001b[0mmarker\u001b[0m\u001b[0;34m)\u001b[0m\u001b[0;34m\u001b[0m\u001b[0m\n\u001b[0m\u001b[1;32m    266\u001b[0m                 \u001b[0mself\u001b[0m\u001b[0;34m.\u001b[0m\u001b[0m_marker_function\u001b[0m \u001b[0;34m=\u001b[0m \u001b[0mself\u001b[0m\u001b[0;34m.\u001b[0m\u001b[0m_set_vertices\u001b[0m\u001b[0;34m\u001b[0m\u001b[0m\n",
      "\u001b[0;32m~/anaconda3/envs/tensorflow35/lib/python3.5/site-packages/matplotlib/path.py\u001b[0m in \u001b[0;36m__init__\u001b[0;34m(self, vertices, codes, _interpolation_steps, closed, readonly)\u001b[0m\n\u001b[1;32m    140\u001b[0m             \u001b[0mmsg\u001b[0m \u001b[0;34m=\u001b[0m \u001b[0;34m\"'vertices' must be a 2D list or array with shape Nx2\"\u001b[0m\u001b[0;34m\u001b[0m\u001b[0m\n\u001b[0;32m--> 141\u001b[0;31m             \u001b[0;32mraise\u001b[0m \u001b[0mValueError\u001b[0m\u001b[0;34m(\u001b[0m\u001b[0mmsg\u001b[0m\u001b[0;34m)\u001b[0m\u001b[0;34m\u001b[0m\u001b[0m\n\u001b[0m\u001b[1;32m    142\u001b[0m \u001b[0;34m\u001b[0m\u001b[0m\n",
      "\u001b[0;31mValueError\u001b[0m: 'vertices' must be a 2D list or array with shape Nx2",
      "\nDuring handling of the above exception, another exception occurred:\n",
      "\u001b[0;31mValueError\u001b[0m                                Traceback (most recent call last)",
      "\u001b[0;32m<ipython-input-116-7af3665ef18e>\u001b[0m in \u001b[0;36m<module>\u001b[0;34m()\u001b[0m\n\u001b[0;32m----> 1\u001b[0;31m \u001b[0mplt\u001b[0m\u001b[0;34m.\u001b[0m\u001b[0mscatter\u001b[0m\u001b[0;34m(\u001b[0m\u001b[0;34m*\u001b[0m\u001b[0msamples\u001b[0m\u001b[0;34m.\u001b[0m\u001b[0mT\u001b[0m\u001b[0;34m,\u001b[0m \u001b[0malpha\u001b[0m\u001b[0;34m=\u001b[0m\u001b[0;36m.005\u001b[0m\u001b[0;34m)\u001b[0m\u001b[0;34m\u001b[0m\u001b[0m\n\u001b[0m",
      "\u001b[0;32m~/anaconda3/envs/tensorflow35/lib/python3.5/site-packages/matplotlib/pyplot.py\u001b[0m in \u001b[0;36mscatter\u001b[0;34m(x, y, s, c, marker, cmap, norm, vmin, vmax, alpha, linewidths, verts, edgecolors, hold, data, **kwargs)\u001b[0m\n\u001b[1;32m   3432\u001b[0m                          \u001b[0mvmin\u001b[0m\u001b[0;34m=\u001b[0m\u001b[0mvmin\u001b[0m\u001b[0;34m,\u001b[0m \u001b[0mvmax\u001b[0m\u001b[0;34m=\u001b[0m\u001b[0mvmax\u001b[0m\u001b[0;34m,\u001b[0m \u001b[0malpha\u001b[0m\u001b[0;34m=\u001b[0m\u001b[0malpha\u001b[0m\u001b[0;34m,\u001b[0m\u001b[0;34m\u001b[0m\u001b[0m\n\u001b[1;32m   3433\u001b[0m                          \u001b[0mlinewidths\u001b[0m\u001b[0;34m=\u001b[0m\u001b[0mlinewidths\u001b[0m\u001b[0;34m,\u001b[0m \u001b[0mverts\u001b[0m\u001b[0;34m=\u001b[0m\u001b[0mverts\u001b[0m\u001b[0;34m,\u001b[0m\u001b[0;34m\u001b[0m\u001b[0m\n\u001b[0;32m-> 3434\u001b[0;31m                          edgecolors=edgecolors, data=data, **kwargs)\n\u001b[0m\u001b[1;32m   3435\u001b[0m     \u001b[0;32mfinally\u001b[0m\u001b[0;34m:\u001b[0m\u001b[0;34m\u001b[0m\u001b[0m\n\u001b[1;32m   3436\u001b[0m         \u001b[0max\u001b[0m\u001b[0;34m.\u001b[0m\u001b[0m_hold\u001b[0m \u001b[0;34m=\u001b[0m \u001b[0mwashold\u001b[0m\u001b[0;34m\u001b[0m\u001b[0m\n",
      "\u001b[0;32m~/anaconda3/envs/tensorflow35/lib/python3.5/site-packages/matplotlib/__init__.py\u001b[0m in \u001b[0;36minner\u001b[0;34m(ax, *args, **kwargs)\u001b[0m\n\u001b[1;32m   1896\u001b[0m                     warnings.warn(msg % (label_namer, func.__name__),\n\u001b[1;32m   1897\u001b[0m                                   RuntimeWarning, stacklevel=2)\n\u001b[0;32m-> 1898\u001b[0;31m             \u001b[0;32mreturn\u001b[0m \u001b[0mfunc\u001b[0m\u001b[0;34m(\u001b[0m\u001b[0max\u001b[0m\u001b[0;34m,\u001b[0m \u001b[0;34m*\u001b[0m\u001b[0margs\u001b[0m\u001b[0;34m,\u001b[0m \u001b[0;34m**\u001b[0m\u001b[0mkwargs\u001b[0m\u001b[0;34m)\u001b[0m\u001b[0;34m\u001b[0m\u001b[0m\n\u001b[0m\u001b[1;32m   1899\u001b[0m         \u001b[0mpre_doc\u001b[0m \u001b[0;34m=\u001b[0m \u001b[0minner\u001b[0m\u001b[0;34m.\u001b[0m\u001b[0m__doc__\u001b[0m\u001b[0;34m\u001b[0m\u001b[0m\n\u001b[1;32m   1900\u001b[0m         \u001b[0;32mif\u001b[0m \u001b[0mpre_doc\u001b[0m \u001b[0;32mis\u001b[0m \u001b[0;32mNone\u001b[0m\u001b[0;34m:\u001b[0m\u001b[0;34m\u001b[0m\u001b[0m\n",
      "\u001b[0;32m~/anaconda3/envs/tensorflow35/lib/python3.5/site-packages/matplotlib/axes/_axes.py\u001b[0m in \u001b[0;36mscatter\u001b[0;34m(self, x, y, s, c, marker, cmap, norm, vmin, vmax, alpha, linewidths, verts, edgecolors, **kwargs)\u001b[0m\n\u001b[1;32m   4015\u001b[0m             \u001b[0mmarker_obj\u001b[0m \u001b[0;34m=\u001b[0m \u001b[0mmarker\u001b[0m\u001b[0;34m\u001b[0m\u001b[0m\n\u001b[1;32m   4016\u001b[0m         \u001b[0;32melse\u001b[0m\u001b[0;34m:\u001b[0m\u001b[0;34m\u001b[0m\u001b[0m\n\u001b[0;32m-> 4017\u001b[0;31m             \u001b[0mmarker_obj\u001b[0m \u001b[0;34m=\u001b[0m \u001b[0mmmarkers\u001b[0m\u001b[0;34m.\u001b[0m\u001b[0mMarkerStyle\u001b[0m\u001b[0;34m(\u001b[0m\u001b[0mmarker\u001b[0m\u001b[0;34m)\u001b[0m\u001b[0;34m\u001b[0m\u001b[0m\n\u001b[0m\u001b[1;32m   4018\u001b[0m \u001b[0;34m\u001b[0m\u001b[0m\n\u001b[1;32m   4019\u001b[0m         path = marker_obj.get_path().transformed(\n",
      "\u001b[0;32m~/anaconda3/envs/tensorflow35/lib/python3.5/site-packages/matplotlib/markers.py\u001b[0m in \u001b[0;36m__init__\u001b[0;34m(self, marker, fillstyle)\u001b[0m\n\u001b[1;32m    184\u001b[0m         \u001b[0;31m# _recache() in set_marker.\u001b[0m\u001b[0;34m\u001b[0m\u001b[0;34m\u001b[0m\u001b[0m\n\u001b[1;32m    185\u001b[0m         \u001b[0mself\u001b[0m\u001b[0;34m.\u001b[0m\u001b[0m_fillstyle\u001b[0m \u001b[0;34m=\u001b[0m \u001b[0mfillstyle\u001b[0m\u001b[0;34m\u001b[0m\u001b[0m\n\u001b[0;32m--> 186\u001b[0;31m         \u001b[0mself\u001b[0m\u001b[0;34m.\u001b[0m\u001b[0mset_marker\u001b[0m\u001b[0;34m(\u001b[0m\u001b[0mmarker\u001b[0m\u001b[0;34m)\u001b[0m\u001b[0;34m\u001b[0m\u001b[0m\n\u001b[0m\u001b[1;32m    187\u001b[0m         \u001b[0mself\u001b[0m\u001b[0;34m.\u001b[0m\u001b[0mset_fillstyle\u001b[0m\u001b[0;34m(\u001b[0m\u001b[0mfillstyle\u001b[0m\u001b[0;34m)\u001b[0m\u001b[0;34m\u001b[0m\u001b[0m\n\u001b[1;32m    188\u001b[0m \u001b[0;34m\u001b[0m\u001b[0m\n",
      "\u001b[0;32m~/anaconda3/envs/tensorflow35/lib/python3.5/site-packages/matplotlib/markers.py\u001b[0m in \u001b[0;36mset_marker\u001b[0;34m(self, marker)\u001b[0m\n\u001b[1;32m    267\u001b[0m             \u001b[0;32mexcept\u001b[0m \u001b[0mValueError\u001b[0m\u001b[0;34m:\u001b[0m\u001b[0;34m\u001b[0m\u001b[0m\n\u001b[1;32m    268\u001b[0m                 raise ValueError('Unrecognized marker style'\n\u001b[0;32m--> 269\u001b[0;31m                                  ' {0}'.format(marker))\n\u001b[0m\u001b[1;32m    270\u001b[0m \u001b[0;34m\u001b[0m\u001b[0m\n\u001b[1;32m    271\u001b[0m         \u001b[0mself\u001b[0m\u001b[0;34m.\u001b[0m\u001b[0m_marker\u001b[0m \u001b[0;34m=\u001b[0m \u001b[0mmarker\u001b[0m\u001b[0;34m\u001b[0m\u001b[0m\n",
      "\u001b[0;31mValueError\u001b[0m: Unrecognized marker style [ 0.25823942 -0.32636745  1.36682697 ...,  0.94869849 -1.05985026\n  0.67330146]"
     ]
    },
    {
     "data": {
      "image/png": "[encoded data removed]",
      "text/plain": [
       "<matplotlib.figure.Figure at 0x7fed9554d390>"
      ]
     },
     "metadata": {},
     "output_type": "display_data"
    }
   ],
   "source": [
    "plt.scatter(*samples.T, alpha=.005)"
   ]
  },
  {
   "cell_type": "markdown",
   "metadata": {},
   "source": [
    "## Mutual Information"
   ]
  },
  {
   "cell_type": "code",
   "execution_count": 154,
   "metadata": {
    "collapsed": true
   },
   "outputs": [],
   "source": [
    "reload(gaussian_mixture)\n",
    "m = gaussian_mixture.GaussianMixture(5, 4, 1., .01)\n",
    "mu = m.center[0]"
   ]
  },
  {
   "cell_type": "code",
   "execution_count": 155,
   "metadata": {},
   "outputs": [],
   "source": [
    "var1_dim = 2\n",
    "x = []\n",
    "y = []\n",
    "y2 = []\n",
    "for xi in np.logspace(2, 4, 50, dtype=int):\n",
    "    x.append(xi)\n",
    "    samples, yi = m.sample_mutual_information(xi, var1_dim=var1_dim)\n",
    "    y.append(yi)\n",
    "    y2.append(ksg.MutualInformation(samples[:, :var1_dim], samples[:, var1_dim:]).mutual_information())"
   ]
  },
  {
   "cell_type": "code",
   "execution_count": 156,
   "metadata": {},
   "outputs": [
    {
     "data": {
      "image/png": "[encoded data removed]",
      "text/plain": [
       "<matplotlib.figure.Figure at 0x7fed94a6ca90>"
      ]
     },
     "metadata": {},
     "output_type": "display_data"
    }
   ],
   "source": [
    "plt.plot(1/np.array(x), y, label='sampling')\n",
    "plt.plot(1/np.array(x), y2, label='ek')\n",
    "plt.legend()\n",
    "plt.xscale('log')"
   ]
  },
  {
   "cell_type": "code",
   "execution_count": null,
   "metadata": {
    "collapsed": true
   },
   "outputs": [],
   "source": []
  }
 ],
 "metadata": {
  "kernelspec": {
   "display_name": "Python 3",
   "language": "python",
   "name": "python3"
  },
  "language_info": {
   "codemirror_mode": {
    "name": "ipython",
    "version": 3
   },
   "file_extension": ".py",
   "mimetype": "text/x-python",
   "name": "python",
   "nbconvert_exporter": "python",
   "pygments_lexer": "ipython3",
   "version": "3.5.4"
  }
 },
 "nbformat": 4,
 "nbformat_minor": 2
}
