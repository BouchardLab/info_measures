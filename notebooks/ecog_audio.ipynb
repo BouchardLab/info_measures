{
 "cells": [
  {
   "cell_type": "code",
   "execution_count": 1,
   "metadata": {},
   "outputs": [
    {
     "name": "stdout",
     "output_type": "stream",
     "text": [
      "aaaaaaaaaaaaaaaaaaaaaaaaa\n"
     ]
    }
   ],
   "source": [
    "import numpy as np\n",
    "import h5py, os\n",
    "import matplotlib.pyplot as plt\n",
    "\n",
    "from info_measures import dataset_generators as dg\n",
    "\n",
    "from ecog.signal_processing import resample"
   ]
  },
  {
   "cell_type": "code",
   "execution_count": 2,
   "metadata": {
    "collapsed": true
   },
   "outputs": [],
   "source": [
    "files, = os.walk('/data/NWB/R32/')\n",
    "folder = files[0]\n",
    "files = files[2]\n",
    "files = [f for f in files if 'wRaw' not in f]\n",
    "files = ['R32_B6.nwb']"
   ]
  },
  {
   "cell_type": "code",
   "execution_count": 3,
   "metadata": {
    "collapsed": true
   },
   "outputs": [],
   "source": [
    "for fname in files:\n",
    "    with h5py.File(os.path.join(folder, fname)) as f:\n",
    "        X = np.squeeze(f['processing/preprocessed/Wvlt_4to1200_54band_CAR1/Wvlt_ECoG128/data'].value)\n",
    "        st = f['processing/preprocessed/MUA/MUA_ECoG128/starting_time']\n",
    "        rm = np.squeeze(f['stimulus/presentation/recorded_mark/data'].value)\n",
    "        init_rate = st.attrs['rate']"
   ]
  },
  {
   "cell_type": "code",
   "execution_count": 4,
   "metadata": {
    "collapsed": true
   },
   "outputs": [],
   "source": [
    "X = resample(X, 200., 400., axis=0)"
   ]
  },
  {
   "cell_type": "code",
   "execution_count": null,
   "metadata": {
    "collapsed": true
   },
   "outputs": [],
   "source": [
    "def extract_baseline(X, mark):\n",
    "    "
   ]
  },
  {
   "cell_type": "code",
   "execution_count": 6,
   "metadata": {},
   "outputs": [
    {
     "name": "stdout",
     "output_type": "stream",
     "text": [
      "0.0048479\n"
     ]
    }
   ],
   "source": [
    "mark_std = rm.std()\n",
    "print(mark_std)"
   ]
  },
  {
   "cell_type": "code",
   "execution_count": 7,
   "metadata": {},
   "outputs": [
    {
     "name": "stdout",
     "output_type": "stream",
     "text": [
      "(25877,) (12939,)\n"
     ]
    }
   ],
   "source": [
    "rm_ds = np.squeeze(resample(rm[np.newaxis], 200., 400.))\n",
    "print(rm.shape, rm_ds.shape)"
   ]
  },
  {
   "cell_type": "code",
   "execution_count": 9,
   "metadata": {},
   "outputs": [
    {
     "data": {
      "image/png": "[encoded data removed]",
      "text/plain": [
       "<matplotlib.figure.Figure at 0x7fe4b8d2e780>"
      ]
     },
     "metadata": {},
     "output_type": "display_data"
    }
   ],
   "source": [
    "n_pts = 2000\n",
    "f, (ax0, ax1) = plt.subplots(2, figsize=(10, 5))\n",
    "ax0.plot(rm[:n_pts])\n",
    "thresh = rm > mark_std\n",
    "ax0.plot(thresh[:n_pts] * rm.max())\n",
    "ax1.plot(rm_ds[:n_pts // 2])\n",
    "plt.show()"
   ]
  },
  {
   "cell_type": "code",
   "execution_count": 36,
   "metadata": {},
   "outputs": [
    {
     "data": {
      "text/plain": [
       "(25877, 128, 54)"
      ]
     },
     "execution_count": 36,
     "metadata": {},
     "output_type": "execute_result"
    }
   ],
   "source": [
    "x.shape"
   ]
  },
  {
   "cell_type": "code",
   "execution_count": 2,
   "metadata": {
    "collapsed": true
   },
   "outputs": [],
   "source": [
    "resample?"
   ]
  },
  {
   "cell_type": "code",
   "execution_count": 13,
   "metadata": {
    "collapsed": true
   },
   "outputs": [],
   "source": [
    "x = f['processing/preprocessed/Wvlt_4to1200_54band_CAR1/Wvlt_ECoG128/data']\n",
    "st = f['processing/preprocessed/MUA/MUA_ECoG128/starting_time']"
   ]
  },
  {
   "cell_type": "code",
   "execution_count": 5,
   "metadata": {},
   "outputs": [
    {
     "data": {
      "text/plain": [
       "(585267, 128, 54)"
      ]
     },
     "execution_count": 5,
     "metadata": {},
     "output_type": "execute_result"
    }
   ],
   "source": [
    "x.shape"
   ]
  },
  {
   "cell_type": "code",
   "execution_count": 14,
   "metadata": {},
   "outputs": [
    {
     "data": {
      "text/plain": [
       "['rate', 'unit']"
      ]
     },
     "execution_count": 14,
     "metadata": {},
     "output_type": "execute_result"
    }
   ],
   "source": [
    "list(st.attrs)"
   ]
  },
  {
   "cell_type": "code",
   "execution_count": 15,
   "metadata": {},
   "outputs": [
    {
     "data": {
      "text/plain": [
       "400.0"
      ]
     },
     "execution_count": 15,
     "metadata": {},
     "output_type": "execute_result"
    }
   ],
   "source": [
    "st.attrs['rate']"
   ]
  },
  {
   "cell_type": "code",
   "execution_count": 18,
   "metadata": {},
   "outputs": [
    {
     "data": {
      "text/plain": [
       "'Seconds'"
      ]
     },
     "execution_count": 18,
     "metadata": {},
     "output_type": "execute_result"
    }
   ],
   "source": [
    "st.attrs['unit']"
   ]
  },
  {
   "cell_type": "code",
   "execution_count": 31,
   "metadata": {},
   "outputs": [
    {
     "name": "stdout",
     "output_type": "stream",
     "text": [
      "acquisition\n",
      "acquisition/Raw\n",
      "acquisition/Raw/ECoG128\n",
      "acquisition/Raw/ECoG128/ECoG128\n",
      "acquisition/Raw/ECoG128/data\n",
      "acquisition/Raw/ECoG128/starting_time\n",
      "acquisition/Raw/Poly32\n",
      "acquisition/Raw/Poly32/Poly32\n",
      "acquisition/Raw/Poly32/data\n",
      "acquisition/Raw/Poly32/starting_time\n",
      "analysis\n",
      "epochs\n",
      "epochs/epochs\n",
      "epochs/timeseries_index\n",
      "file_create_date\n",
      "general\n",
      "general/devices\n",
      "general/devices/ECoG128\n",
      "general/devices/Poly32\n",
      "general/experiment_description\n",
      "general/experimenter\n",
      "general/extracellular_ephys\n",
      "general/extracellular_ephys/ECoG128_electrodes\n",
      "general/extracellular_ephys/Poly32\n",
      "general/extracellular_ephys/electrodes\n",
      "general/institution\n",
      "general/lab\n",
      "general/notes\n",
      "general/pharmacology\n",
      "general/session_id\n",
      "general/surgery\n",
      "identifier\n",
      "processing\n",
      "processing/preprocessed\n",
      "processing/preprocessed/MUA\n",
      "processing/preprocessed/MUA/MUA_ECoG128\n",
      "processing/preprocessed/MUA/MUA_ECoG128/data\n",
      "processing/preprocessed/MUA/MUA_ECoG128/starting_time\n",
      "processing/preprocessed/MUA/MUA_Poly32\n",
      "processing/preprocessed/MUA/MUA_Poly32/data\n",
      "processing/preprocessed/MUA/MUA_Poly32/starting_time\n",
      "processing/preprocessed/Wvlt_4to1200_54band_CAR1\n",
      "processing/preprocessed/Wvlt_4to1200_54band_CAR1/Wvlt_ECoG128\n",
      "processing/preprocessed/Wvlt_4to1200_54band_CAR1/Wvlt_ECoG128/data\n",
      "processing/preprocessed/Wvlt_4to1200_54band_CAR1/Wvlt_ECoG128/starting_time\n",
      "processing/preprocessed/Wvlt_4to1200_54band_CAR1/Wvlt_Poly32\n",
      "processing/preprocessed/Wvlt_4to1200_54band_CAR1/Wvlt_Poly32/data\n",
      "processing/preprocessed/Wvlt_4to1200_54band_CAR1/Wvlt_Poly32/starting_time\n",
      "session_description\n",
      "session_start_time\n",
      "stimulus\n",
      "stimulus/presentation\n",
      "stimulus/presentation/recorded_mark\n",
      "stimulus/presentation/recorded_mark/data\n",
      "stimulus/presentation/recorded_mark/starting_time\n",
      "stimulus/presentation/recorded_stim\n",
      "stimulus/presentation/recorded_stim/data\n",
      "stimulus/presentation/recorded_stim/starting_time\n",
      "stimulus/templates\n"
     ]
    }
   ],
   "source": [
    "f.visit(lambda name: print(name))"
   ]
  },
  {
   "cell_type": "code",
   "execution_count": null,
   "metadata": {
    "collapsed": true
   },
   "outputs": [],
   "source": []
  }
 ],
 "metadata": {
  "kernelspec": {
   "display_name": "Python 3",
   "language": "python",
   "name": "python3"
  },
  "language_info": {
   "codemirror_mode": {
    "name": "ipython",
    "version": 3
   },
   "file_extension": ".py",
   "mimetype": "text/x-python",
   "name": "python",
   "nbconvert_exporter": "python",
   "pygments_lexer": "ipython3",
   "version": "3.5.4"
  }
 },
 "nbformat": 4,
 "nbformat_minor": 2
}
