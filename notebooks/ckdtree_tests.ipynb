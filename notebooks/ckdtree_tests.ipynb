{
 "cells": [
  {
   "cell_type": "code",
   "execution_count": 1,
   "metadata": {},
   "outputs": [],
   "source": [
    "import numpy as np\n",
    "import cProfile\n",
    "from imp import reload\n",
    "\n",
    "#from info_measures import spatial as ss\n",
    "import scipy.spatial as ss\n",
    "import scipy as sp\n",
    "from info_measures.numpy import kraskov_stoegbauer_grassberger as ksg"
   ]
  },
  {
   "cell_type": "code",
   "execution_count": 2,
   "metadata": {},
   "outputs": [
    {
     "data": {
      "text/plain": [
       "'/home/jesse/Development/scipy/scipy/__init__.py'"
      ]
     },
     "execution_count": 2,
     "metadata": {},
     "output_type": "execute_result"
    }
   ],
   "source": [
    "sp.__file__"
   ]
  },
  {
   "cell_type": "markdown",
   "metadata": {},
   "source": [
    "# Trees"
   ]
  },
  {
   "cell_type": "code",
   "execution_count": null,
   "metadata": {
    "collapsed": true
   },
   "outputs": [],
   "source": [
    "x = np.random.randn(10000, 1)"
   ]
  },
  {
   "cell_type": "code",
   "execution_count": null,
   "metadata": {
    "collapsed": true
   },
   "outputs": [],
   "source": [
    "xtree = ss.cKDTree(x)"
   ]
  },
  {
   "cell_type": "code",
   "execution_count": null,
   "metadata": {},
   "outputs": [],
   "source": [
    "%timeit xtree.query(x, 3+1, p=np.inf, n_jobs=1)"
   ]
  },
  {
   "cell_type": "code",
   "execution_count": null,
   "metadata": {},
   "outputs": [],
   "source": [
    "%timeit xtree.query(x, 3+1, p=np.inf, n_jobs=-1)"
   ]
  },
  {
   "cell_type": "code",
   "execution_count": null,
   "metadata": {
    "collapsed": true
   },
   "outputs": [],
   "source": [
    "dvec = xtree.query(x, 3+1, p=np.inf, n_jobs=-1)[0][:, 3]"
   ]
  },
  {
   "cell_type": "code",
   "execution_count": 10,
   "metadata": {},
   "outputs": [
    {
     "name": "stdout",
     "output_type": "stream",
     "text": [
      "10 loops, best of 3: 91.9 ms per loop\n"
     ]
    }
   ],
   "source": [
    "%timeit [len(xtree.query_ball_point(point, 50*dist - 1e-15, p=float('inf'))) for point, dist in zip(x, dvec)]"
   ]
  },
  {
   "cell_type": "code",
   "execution_count": null,
   "metadata": {
    "scrolled": true
   },
   "outputs": [],
   "source": [
    "%timeit [len(pts) for pts in xtree.query_ball_point(x, 50*dvec - 1e-15, p=float('inf'), n_jobs=-1)]"
   ]
  },
  {
   "cell_type": "code",
   "execution_count": null,
   "metadata": {},
   "outputs": [],
   "source": [
    "%timeit [len(pts) for pts in xtree.query_ball_point(x, 50*dvec - 1e-15, p=float('inf'), n_jobs=1)]"
   ]
  },
  {
   "cell_type": "code",
   "execution_count": 6,
   "metadata": {},
   "outputs": [],
   "source": [
    "import numpy as np\n",
    "import scipy.spatial as ss\n",
    "x = np.random.randn(10000, 1)\n",
    "xtree = ss.cKDTree(x)"
   ]
  },
  {
   "cell_type": "code",
   "execution_count": 7,
   "metadata": {},
   "outputs": [
    {
     "name": "stdout",
     "output_type": "stream",
     "text": [
      "104 ms ± 576 µs per loop (mean ± std. dev. of 7 runs, 10 loops each)\n"
     ]
    }
   ],
   "source": [
    "%timeit [xtree.query_ball_point(point, .02, p=np.inf) for point in x]"
   ]
  },
  {
   "cell_type": "code",
   "execution_count": 8,
   "metadata": {},
   "outputs": [
    {
     "name": "stdout",
     "output_type": "stream",
     "text": [
      "163 ms ± 294 µs per loop (mean ± std. dev. of 7 runs, 10 loops each)\n"
     ]
    }
   ],
   "source": [
    "%timeit xtree.query_ball_point(x, .02, p=np.inf)"
   ]
  },
  {
   "cell_type": "code",
   "execution_count": 9,
   "metadata": {},
   "outputs": [
    {
     "name": "stdout",
     "output_type": "stream",
     "text": [
      "20 ms ± 479 µs per loop (mean ± std. dev. of 7 runs, 10 loops each)\n"
     ]
    }
   ],
   "source": [
    "%timeit xtree.count_ball_point(x, .02, p=np.inf)"
   ]
  },
  {
   "cell_type": "code",
   "execution_count": 10,
   "metadata": {},
   "outputs": [
    {
     "name": "stdout",
     "output_type": "stream",
     "text": [
      "15.5 ms ± 135 µs per loop (mean ± std. dev. of 7 runs, 100 loops each)\n"
     ]
    }
   ],
   "source": [
    "%timeit xtree.count_ball_point(x, .02, p=np.inf, n_jobs=4)"
   ]
  },
  {
   "cell_type": "code",
   "execution_count": null,
   "metadata": {
    "collapsed": true
   },
   "outputs": [],
   "source": [
    "r1 = [xtree.query_ball_point(point, .002, p=np.inf) for point in x]\n",
    "r2 = xtree.query_ball_point(x, .002, p=np.inf)"
   ]
  },
  {
   "cell_type": "code",
   "execution_count": null,
   "metadata": {},
   "outputs": [],
   "source": [
    "all([np.allclose(sorted(rx1), sorted(rx2)) for rx1, rx2 in zip(r1, r2)])"
   ]
  },
  {
   "cell_type": "code",
   "execution_count": 4,
   "metadata": {},
   "outputs": [],
   "source": [
    "c1 = [len(xtree.query_ball_point(point, .002, p=np.inf)) for point in x]\n",
    "c2 = xtree.count_ball_point(x, .002, p=np.inf)"
   ]
  },
  {
   "cell_type": "code",
   "execution_count": 5,
   "metadata": {},
   "outputs": [
    {
     "name": "stdout",
     "output_type": "stream",
     "text": [
      "[14, 18, 9, 10, 14, 22, 3, 2, 11, 18]\n",
      "[14 18  9 10 14 22  3  2 11 18]\n"
     ]
    }
   ],
   "source": [
    "print(c1[:10])\n",
    "print(c2[:10])"
   ]
  },
  {
   "cell_type": "code",
   "execution_count": 5,
   "metadata": {},
   "outputs": [
    {
     "data": {
      "text/plain": [
       "False"
      ]
     },
     "execution_count": 5,
     "metadata": {},
     "output_type": "execute_result"
    }
   ],
   "source": [
    "np.allclose(c1, c2)"
   ]
  },
  {
   "cell_type": "code",
   "execution_count": null,
   "metadata": {},
   "outputs": [],
   "source": [
    "%timeit xtree.query_ball_tree(xtree, 2, p=np.inf)"
   ]
  },
  {
   "cell_type": "code",
   "execution_count": null,
   "metadata": {},
   "outputs": [],
   "source": [
    "xtree.query_ball_point(x, .2, p=np.inf)"
   ]
  },
  {
   "cell_type": "code",
   "execution_count": null,
   "metadata": {
    "collapsed": true
   },
   "outputs": [],
   "source": [
    "assert all([np.allclose(sorted(x), sorted(y)) for x, y in zip(xtree.query_ball_point(x, dvec - 1e-15, p=float('inf'), n_jobs=-1),\n",
    "                                            [xtree.query_ball_point(point, dist - 1e-15, p=float('inf')) for point, dist in zip(x, dvec)])])"
   ]
  },
  {
   "cell_type": "code",
   "execution_count": null,
   "metadata": {
    "collapsed": true
   },
   "outputs": [],
   "source": [
    "nns1 = xtree.query_ball_point(x, 1., p=np.inf, n_jobs=1)"
   ]
  },
  {
   "cell_type": "code",
   "execution_count": null,
   "metadata": {
    "collapsed": true
   },
   "outputs": [],
   "source": [
    "nns2 = xtree.query_ball_tree(xtree, 1., p=np.inf)"
   ]
  },
  {
   "cell_type": "code",
   "execution_count": null,
   "metadata": {},
   "outputs": [],
   "source": [
    "all([np.allclose(sorted(x), sorted(y)) for x, y in zip(nns1, nns2)])"
   ]
  },
  {
   "cell_type": "code",
   "execution_count": null,
   "metadata": {},
   "outputs": [],
   "source": [
    "%timeit xtree.query_ball_point(x, 1., p=np.inf, n_jobs=-1)"
   ]
  },
  {
   "cell_type": "code",
   "execution_count": null,
   "metadata": {},
   "outputs": [],
   "source": [
    "%timeit xtree.query_ball_tree(xtree, 1., p=np.inf)"
   ]
  },
  {
   "cell_type": "markdown",
   "metadata": {},
   "source": [
    "# digamma"
   ]
  },
  {
   "cell_type": "code",
   "execution_count": null,
   "metadata": {},
   "outputs": [],
   "source": [
    "%timeit ksg.avgdigamma1(xtree, x, dvec)\n",
    "cProfile.run('ksg.avgdigamma1(xtree, x, dvec)')"
   ]
  },
  {
   "cell_type": "code",
   "execution_count": null,
   "metadata": {},
   "outputs": [],
   "source": [
    "%timeit ksg.avgdigamma1_v(xtree, x, dvec, n_jobs=-1)\n",
    "cProfile.run('ksg.avgdigamma1_v(xtree, x, dvec, n_jobs=-1)')"
   ]
  },
  {
   "cell_type": "markdown",
   "metadata": {
    "collapsed": true
   },
   "source": [
    "# MI"
   ]
  },
  {
   "cell_type": "code",
   "execution_count": 2,
   "metadata": {},
   "outputs": [],
   "source": [
    "import entropy_estimators as ee"
   ]
  },
  {
   "cell_type": "code",
   "execution_count": 15,
   "metadata": {},
   "outputs": [],
   "source": [
    "x = np.random.randn(50000, 4)"
   ]
  },
  {
   "cell_type": "code",
   "execution_count": 16,
   "metadata": {},
   "outputs": [],
   "source": [
    "reload(ksg)\n",
    "reload(ee)\n",
    "ksg_e = ksg.MutualInformation(x[:,[0, 1]], x[:,[2, 3]])\n",
    "k=3\n",
    "dvec = ksg_e.tree.query(ksg_e.Z, k + 1, p=float('inf'))[0][:,k]"
   ]
  },
  {
   "cell_type": "code",
   "execution_count": 19,
   "metadata": {},
   "outputs": [
    {
     "data": {
      "text/plain": [
       "-0.006076569521038522"
      ]
     },
     "execution_count": 19,
     "metadata": {},
     "output_type": "execute_result"
    }
   ],
   "source": [
    "ksg_e.mutual_information()"
   ]
  },
  {
   "cell_type": "code",
   "execution_count": null,
   "metadata": {},
   "outputs": [],
   "source": [
    "[len(xp) for xp in ksg_e.Xtree.query_ball_point(ksg_e.X, dvec)]"
   ]
  },
  {
   "cell_type": "code",
   "execution_count": 6,
   "metadata": {},
   "outputs": [
    {
     "name": "stdout",
     "output_type": "stream",
     "text": [
      "163 ms ± 595 µs per loop (mean ± std. dev. of 7 runs, 10 loops each)\n"
     ]
    }
   ],
   "source": [
    "%timeit ksg.avgdigamma1(ksg_e.Xtree, ksg_e.X, dvec)"
   ]
  },
  {
   "cell_type": "code",
   "execution_count": 7,
   "metadata": {},
   "outputs": [
    {
     "name": "stdout",
     "output_type": "stream",
     "text": [
      "34.5 ms ± 295 µs per loop (mean ± std. dev. of 7 runs, 10 loops each)\n"
     ]
    }
   ],
   "source": [
    "%timeit ksg.avgdigamma1_v(ksg_e.Xtree, ksg_e.X, dvec, n_jobs=1)"
   ]
  },
  {
   "cell_type": "code",
   "execution_count": 20,
   "metadata": {},
   "outputs": [
    {
     "data": {
      "text/plain": [
       "-0.006076569521038522"
      ]
     },
     "execution_count": 20,
     "metadata": {},
     "output_type": "execute_result"
    }
   ],
   "source": [
    "ksg_e.mutual_information(v=True)"
   ]
  },
  {
   "cell_type": "code",
   "execution_count": 22,
   "metadata": {},
   "outputs": [
    {
     "name": "stdout",
     "output_type": "stream",
     "text": [
      "298 ms ± 12.9 ms per loop (mean ± std. dev. of 7 runs, 1 loop each)\n"
     ]
    }
   ],
   "source": [
    "%timeit ksg_e.mutual_information(n_jobs=-1)"
   ]
  },
  {
   "cell_type": "code",
   "execution_count": 23,
   "metadata": {},
   "outputs": [
    {
     "name": "stdout",
     "output_type": "stream",
     "text": [
      "347 ms ± 8.77 ms per loop (mean ± std. dev. of 7 runs, 1 loop each)\n"
     ]
    }
   ],
   "source": [
    "%timeit ksg_e.mutual_information(n_jobs=4)"
   ]
  },
  {
   "cell_type": "code",
   "execution_count": 24,
   "metadata": {},
   "outputs": [
    {
     "name": "stdout",
     "output_type": "stream",
     "text": [
      "804 ms ± 5.81 ms per loop (mean ± std. dev. of 7 runs, 1 loop each)\n"
     ]
    }
   ],
   "source": [
    "%timeit ksg_e.mutual_information(n_jobs=1)"
   ]
  },
  {
   "cell_type": "code",
   "execution_count": 25,
   "metadata": {},
   "outputs": [
    {
     "name": "stdout",
     "output_type": "stream",
     "text": [
      "13.4 s ± 431 ms per loop (mean ± std. dev. of 7 runs, 1 loop each)\n"
     ]
    }
   ],
   "source": [
    "%timeit ee.mi(x[:,[0]], x[:,[1]])"
   ]
  },
  {
   "cell_type": "code",
   "execution_count": 29,
   "metadata": {},
   "outputs": [
    {
     "name": "stdout",
     "output_type": "stream",
     "text": [
      "         200030 function calls in 0.301 seconds\n",
      "\n",
      "   Ordered by: standard name\n",
      "\n",
      "   ncalls  tottime  percall  cumtime  percall filename:lineno(function)\n",
      "        1    0.000    0.000    0.301    0.301 <string>:1(<module>)\n",
      "        1    0.000    0.000    0.000    0.000 _methods.py:25(_amax)\n",
      "        1    0.000    0.000    0.000    0.000 _methods.py:34(_prod)\n",
      "        1    0.000    0.000    0.000    0.000 fromnumeric.py:1613(shape)\n",
      "        2    0.000    0.000    0.000    0.000 fromnumeric.py:163(reshape)\n",
      "        1    0.000    0.000    0.000    0.000 fromnumeric.py:2222(amax)\n",
      "        1    0.000    0.000    0.000    0.000 fromnumeric.py:2456(prod)\n",
      "        2    0.000    0.000    0.000    0.000 fromnumeric.py:50(_wrapfunc)\n",
      "        1    0.000    0.000    0.301    0.301 kraskov_stoegbauer_grassberger.py:111(mutual_information)\n",
      "        2    0.072    0.036    0.289    0.144 kraskov_stoegbauer_grassberger.py:154(avgdigamma1)\n",
      "        1    0.000    0.000    0.000    0.000 numeric.py:1917(isscalar)\n",
      "    40001    0.011    0.000    0.034    0.000 numeric.py:424(asarray)\n",
      "    40001    0.011    0.000    0.037    0.000 numeric.py:547(ascontiguousarray)\n",
      "        1    0.000    0.000    0.301    0.301 {built-in method builtins.exec}\n",
      "        2    0.000    0.000    0.000    0.000 {built-in method builtins.getattr}\n",
      "        1    0.000    0.000    0.000    0.000 {built-in method builtins.isinstance}\n",
      "    20002    0.001    0.000    0.001    0.000 {built-in method builtins.len}\n",
      "    80002    0.049    0.000    0.049    0.000 {built-in method numpy.core.multiarray.array}\n",
      "        1    0.000    0.000    0.000    0.000 {method 'disable' of '_lsprof.Profiler' objects}\n",
      "        1    0.012    0.012    0.012    0.012 {method 'query' of 'ckdtree.cKDTree' objects}\n",
      "    20000    0.145    0.000    0.216    0.000 {method 'query_ball_point' of 'ckdtree.cKDTree' objects}\n",
      "        2    0.000    0.000    0.000    0.000 {method 'reduce' of 'numpy.ufunc' objects}\n",
      "        2    0.000    0.000    0.000    0.000 {method 'reshape' of 'numpy.ndarray' objects}\n",
      "\n",
      "\n"
     ]
    }
   ],
   "source": [
    "cProfile.run('ksg_e.mutual_information(n_jobs=1)')"
   ]
  },
  {
   "cell_type": "code",
   "execution_count": 30,
   "metadata": {},
   "outputs": [
    {
     "name": "stdout",
     "output_type": "stream",
     "text": [
      "         80114 function calls in 0.089 seconds\n",
      "\n",
      "   Ordered by: standard name\n",
      "\n",
      "   ncalls  tottime  percall  cumtime  percall filename:lineno(function)\n",
      "        1    0.000    0.000    0.089    0.089 <string>:1(<module>)\n",
      "        1    0.000    0.000    0.000    0.000 _methods.py:25(_amax)\n",
      "        3    0.000    0.000    0.000    0.000 _methods.py:34(_prod)\n",
      "        1    0.000    0.000    0.000    0.000 fromnumeric.py:1613(shape)\n",
      "        2    0.000    0.000    0.000    0.000 fromnumeric.py:163(reshape)\n",
      "        1    0.000    0.000    0.000    0.000 fromnumeric.py:2222(amax)\n",
      "        3    0.000    0.000    0.000    0.000 fromnumeric.py:2456(prod)\n",
      "        2    0.000    0.000    0.000    0.000 fromnumeric.py:50(_wrapfunc)\n",
      "        4    0.000    0.000    0.000    0.000 index_tricks.py:566(__init__)\n",
      "        4    0.000    0.000    0.000    0.000 index_tricks.py:574(__iter__)\n",
      "    40004    0.010    0.000    0.013    0.000 index_tricks.py:585(__next__)\n",
      "        1    0.000    0.000    0.089    0.089 kraskov_stoegbauer_grassberger.py:111(mutual_information)\n",
      "        2    0.028    0.014    0.077    0.039 kraskov_stoegbauer_grassberger.py:177(avgdigamma1_v)\n",
      "        1    0.000    0.000    0.000    0.000 numeric.py:1917(isscalar)\n",
      "        9    0.000    0.000    0.000    0.000 numeric.py:424(asarray)\n",
      "        1    0.000    0.000    0.000    0.000 numeric.py:547(ascontiguousarray)\n",
      "        4    0.000    0.000    0.000    0.000 numeric.py:83(zeros_like)\n",
      "        4    0.000    0.000    0.000    0.000 stride_tricks.py:20(__init__)\n",
      "        4    0.000    0.000    0.000    0.000 stride_tricks.py:25(_maybe_view_as_subclass)\n",
      "        4    0.000    0.000    0.000    0.000 stride_tricks.py:38(as_strided)\n",
      "        1    0.000    0.000    0.089    0.089 {built-in method builtins.exec}\n",
      "        2    0.000    0.000    0.000    0.000 {built-in method builtins.getattr}\n",
      "        5    0.000    0.000    0.000    0.000 {built-in method builtins.isinstance}\n",
      "        6    0.000    0.000    0.000    0.000 {built-in method builtins.len}\n",
      "    40004    0.004    0.000    0.004    0.000 {built-in method builtins.next}\n",
      "       14    0.000    0.000    0.000    0.000 {built-in method numpy.core.multiarray.array}\n",
      "        4    0.000    0.000    0.000    0.000 {built-in method numpy.core.multiarray.copyto}\n",
      "        4    0.000    0.000    0.000    0.000 {built-in method numpy.core.multiarray.empty_like}\n",
      "        8    0.000    0.000    0.000    0.000 {built-in method numpy.core.multiarray.zeros}\n",
      "        2    0.036    0.018    0.050    0.025 {method 'count_ball_point' of 'ckdtree.cKDTree' objects}\n",
      "        1    0.000    0.000    0.000    0.000 {method 'disable' of '_lsprof.Profiler' objects}\n",
      "        1    0.011    0.011    0.011    0.011 {method 'query' of 'ckdtree.cKDTree' objects}\n",
      "        4    0.000    0.000    0.000    0.000 {method 'reduce' of 'numpy.ufunc' objects}\n",
      "        2    0.000    0.000    0.000    0.000 {method 'reshape' of 'numpy.ndarray' objects}\n",
      "\n",
      "\n"
     ]
    }
   ],
   "source": [
    "cProfile.run('ksg_e.mutual_information(n_jobs=1, v=True)')"
   ]
  },
  {
   "cell_type": "code",
   "execution_count": null,
   "metadata": {
    "collapsed": true
   },
   "outputs": [],
   "source": []
  }
 ],
 "metadata": {
  "kernelspec": {
   "display_name": "Python 3",
   "language": "python",
   "name": "python3"
  },
  "language_info": {
   "codemirror_mode": {
    "name": "ipython",
    "version": 3
   },
   "file_extension": ".py",
   "mimetype": "text/x-python",
   "name": "python",
   "nbconvert_exporter": "python",
   "pygments_lexer": "ipython3",
   "version": "3.5.5"
  }
 },
 "nbformat": 4,
 "nbformat_minor": 2
}
