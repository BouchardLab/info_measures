{
 "cells": [
  {
   "cell_type": "code",
   "execution_count": 1,
   "metadata": {
    "collapsed": true
   },
   "outputs": [],
   "source": [
    "import numpy as np\n",
    "from scipy.stats import multivariate_normal\n",
    "import matplotlib.pyplot as plt"
   ]
  },
  {
   "cell_type": "code",
   "execution_count": 2,
   "metadata": {},
   "outputs": [],
   "source": [
    "variance = 1.\n",
    "rho = .6"
   ]
  },
  {
   "cell_type": "code",
   "execution_count": 11,
   "metadata": {},
   "outputs": [],
   "source": [
    "e_ts = []\n",
    "e_2ts = []\n",
    "pis = []\n",
    "dims = np.logspace(.5, 3, 15, dtype=int)\n",
    "for dim in dims:\n",
    "    sigma_t = np.ones((dim, dim)) * variance * rho\n",
    "    sigma_t[np.arange(dim), np.arange(dim)] = variance\n",
    "    mean_t = np.zeros(dim)\n",
    "\n",
    "    sigma_2t = np.ones((2*dim, 2*dim)) * variance * rho\n",
    "    sigma_2t[np.arange(2*dim), np.arange(2*dim)] = variance\n",
    "    mean_2t = np.zeros(2*dim)\n",
    "    e_t = multivariate_normal(mean_t, sigma_t).entropy()\n",
    "    e_2t = multivariate_normal(mean_2t, sigma_2t).entropy()\n",
    "    e_ts.append(e_t)\n",
    "    e_2ts.append(e_2t)\n",
    "    pis.append(2*e_t - e_2t)"
   ]
  },
  {
   "cell_type": "code",
   "execution_count": 15,
   "metadata": {},
   "outputs": [
    {
     "data": {
      "image/png": "[encoded data removed]",
      "text/plain": [
       "<matplotlib.figure.Figure at 0x7fb9bf238550>"
      ]
     },
     "metadata": {},
     "output_type": "display_data"
    }
   ],
   "source": [
    "plt.plot(dims, e_ts / dims, label='e_t')\n",
    "plt.plot(dims, e_2ts / dims, label='e_2t')\n",
    "plt.plot(dims, pis / dims, label='pi')\n",
    "plt.xscale('log')\n",
    "plt.show()"
   ]
  },
  {
   "cell_type": "code",
   "execution_count": 13,
   "metadata": {},
   "outputs": [
    {
     "data": {
      "text/plain": [
       "array([ 0.18448518,  0.16585887,  0.12811797,  0.10555951,  0.07956035,\n",
       "        0.06107034,  0.04527003,  0.03353039,  0.02473205,  0.0179699 ,\n",
       "        0.01290202,  0.00925958,  0.00660489,  0.00468965,  0.00331054])"
      ]
     },
     "execution_count": 13,
     "metadata": {},
     "output_type": "execute_result"
    }
   ],
   "source": [
    "pis / dims"
   ]
  },
  {
   "cell_type": "code",
   "execution_count": null,
   "metadata": {
    "collapsed": true
   },
   "outputs": [],
   "source": []
  }
 ],
 "metadata": {
  "kernelspec": {
   "display_name": "Python 3",
   "language": "python",
   "name": "python3"
  },
  "language_info": {
   "codemirror_mode": {
    "name": "ipython",
    "version": 3
   },
   "file_extension": ".py",
   "mimetype": "text/x-python",
   "name": "python",
   "nbconvert_exporter": "python",
   "pygments_lexer": "ipython3",
   "version": "3.6.1"
  }
 },
 "nbformat": 4,
 "nbformat_minor": 2
}
