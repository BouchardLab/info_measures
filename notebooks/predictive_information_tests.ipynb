{
 "cells": [
  {
   "cell_type": "code",
   "execution_count": 1,
   "metadata": {
    "collapsed": true
   },
   "outputs": [],
   "source": [
    "import numpy as np\n",
    "from scipy.stats import multivariate_normal\n",
    "import matplotlib.pyplot as plt\n",
    "\n",
    "import info_measures.numpy.kraskov_stoegbauer_grassberger as ksg"
   ]
  },
  {
   "cell_type": "code",
   "execution_count": 18,
   "metadata": {
    "collapsed": true
   },
   "outputs": [],
   "source": [
    "variance = 1.\n",
    "rho = .6\n",
    "n_samples = 10000"
   ]
  },
  {
   "cell_type": "code",
   "execution_count": 19,
   "metadata": {},
   "outputs": [],
   "source": [
    "e_ts = []\n",
    "e_2ts = []\n",
    "pis = []\n",
    "e_pis = []\n",
    "dims = np.linspace(1, 20, 15, dtype=int)[::-1]\n",
    "dim = dims[0]\n",
    "sigma_2t = np.ones((2*dim, 2*dim)) * variance * rho\n",
    "sigma_2t[np.arange(2*dim), np.arange(2*dim)] = variance\n",
    "mean_2t = np.zeros(2*dim)\n",
    "samples = np.random.multivariate_normal(mean_2t, sigma_2t, size=n_samples)\n",
    "samples_x = samples[:, :dim]\n",
    "samples_y = samples[:, dim:]\n",
    "\n",
    "\n",
    "for dim in dims:\n",
    "    sxi = samples_x[:, :dim]\n",
    "    syi = samples_y[:, :dim]\n",
    "    sigma_t = np.ones((dim, dim)) * variance * rho\n",
    "    sigma_t[np.arange(dim), np.arange(dim)] = variance\n",
    "    mean_t = np.zeros(dim)\n",
    "\n",
    "    sigma_2t = np.ones((2*dim, 2*dim)) * variance * rho\n",
    "    sigma_2t[np.arange(2*dim), np.arange(2*dim)] = variance\n",
    "    mean_2t = np.zeros(2*dim)\n",
    "\n",
    "    e_t = multivariate_normal(mean_t, sigma_t).entropy()\n",
    "    e_2t = multivariate_normal(mean_2t, sigma_2t).entropy()\n",
    "    e_ts.append(e_t)\n",
    "    e_2ts.append(e_2t)\n",
    "    pis.append(2*e_t - e_2t)\n",
    "    e_pis.append(ksg.MutualInformation(sxi, syi).mutual_information())"
   ]
  },
  {
   "cell_type": "code",
   "execution_count": 20,
   "metadata": {},
   "outputs": [
    {
     "data": {
      "image/png": "[encoded data removed]",
      "text/plain": [
       "<matplotlib.figure.Figure at 0x1088a9b70>"
      ]
     },
     "metadata": {},
     "output_type": "display_data"
    }
   ],
   "source": [
    "#plt.plot(dims, e_ts / dims, label='e_t')\n",
    "#plt.plot(dims, e_2ts / dims, label='e_2t')\n",
    "plt.plot(dims, pis, label='pi')\n",
    "plt.plot(dims, e_pis, label='e_pi')\n",
    "plt.legend()\n",
    "plt.show()"
   ]
  },
  {
   "cell_type": "code",
   "execution_count": 60,
   "metadata": {},
   "outputs": [],
   "source": [
    "dim = 6\n",
    "variance = .64\n",
    "rho = .6\n",
    "sigma_t = np.ones((dim, dim)) * variance * rho\n",
    "sigma_t[np.arange(dim), np.arange(dim)] = variance"
   ]
  },
  {
   "cell_type": "code",
   "execution_count": 61,
   "metadata": {},
   "outputs": [
    {
     "data": {
      "text/plain": [
       "(2.56, array([ 0.256,  0.256,  0.256,  0.256,  0.256,  2.56 ]))"
      ]
     },
     "execution_count": 61,
     "metadata": {},
     "output_type": "execute_result"
    }
   ],
   "source": [
    "variance*(1.+(dim-1)*rho), np.linalg.eigvalsh(sigma_t)"
   ]
  },
  {
   "cell_type": "code",
   "execution_count": 62,
   "metadata": {},
   "outputs": [
    {
     "data": {
      "text/plain": [
       "array([[ 0.64 ,  0.384,  0.384,  0.384,  0.384,  0.384],\n",
       "       [ 0.384,  0.64 ,  0.384,  0.384,  0.384,  0.384],\n",
       "       [ 0.384,  0.384,  0.64 ,  0.384,  0.384,  0.384],\n",
       "       [ 0.384,  0.384,  0.384,  0.64 ,  0.384,  0.384],\n",
       "       [ 0.384,  0.384,  0.384,  0.384,  0.64 ,  0.384],\n",
       "       [ 0.384,  0.384,  0.384,  0.384,  0.384,  0.64 ]])"
      ]
     },
     "execution_count": 62,
     "metadata": {},
     "output_type": "execute_result"
    }
   ],
   "source": [
    "sigma_t"
   ]
  },
  {
   "cell_type": "code",
   "execution_count": 63,
   "metadata": {},
   "outputs": [
    {
     "name": "stdout",
     "output_type": "stream",
     "text": [
      "[[ 0.8         0.          0.          0.          0.          0.        ]\n",
      " [ 0.48        0.64        0.          0.          0.          0.        ]\n",
      " [ 0.48        0.24        0.59329588  0.          0.          0.        ]\n",
      " [ 0.48        0.24        0.16180797  0.57080485  0.          0.        ]\n",
      " [ 0.48        0.24        0.16180797  0.12231533  0.55754564  0.        ]\n",
      " [ 0.48        0.24        0.16180797  0.12231533  0.09839041  0.54879547]]\n"
     ]
    }
   ],
   "source": [
    "L = np.linalg.cholesky(sigma_t)\n",
    "print(L)"
   ]
  },
  {
   "cell_type": "code",
   "execution_count": 64,
   "metadata": {},
   "outputs": [
    {
     "name": "stdout",
     "output_type": "stream",
     "text": [
      "[[ 0.8         0.48        0.48        0.48        0.48        0.48      ]\n",
      " [ 0.          0.64        0.24        0.24        0.24        0.24      ]\n",
      " [ 0.          0.          0.59329588  0.16180797  0.16180797  0.16180797]\n",
      " [ 0.          0.          0.          0.57080485  0.12231533  0.12231533]\n",
      " [ 0.          0.          0.          0.          0.55754564  0.09839041]\n",
      " [ 0.          0.          0.          0.          0.          0.54879547]]\n"
     ]
    }
   ],
   "source": [
    "print(L.T)"
   ]
  },
  {
   "cell_type": "code",
   "execution_count": 29,
   "metadata": {},
   "outputs": [
    {
     "data": {
      "text/plain": [
       "array([[ 1. ,  0.6,  0.6,  0.6],\n",
       "       [ 0.6,  1. ,  0.6,  0.6],\n",
       "       [ 0.6,  0.6,  1. ,  0.6],\n",
       "       [ 0.6,  0.6,  0.6,  1. ]])"
      ]
     },
     "execution_count": 29,
     "metadata": {},
     "output_type": "execute_result"
    }
   ],
   "source": [
    "L.dot(L.T)"
   ]
  },
  {
   "cell_type": "code",
   "execution_count": 58,
   "metadata": {},
   "outputs": [
    {
     "data": {
      "text/plain": [
       "1.0"
      ]
     },
     "execution_count": 58,
     "metadata": {},
     "output_type": "execute_result"
    }
   ],
   "source": [
    "np.square(L[1]).sum()"
   ]
  },
  {
   "cell_type": "code",
   "execution_count": null,
   "metadata": {
    "collapsed": true
   },
   "outputs": [],
   "source": []
  }
 ],
 "metadata": {
  "kernelspec": {
   "display_name": "Python 3",
   "language": "python",
   "name": "python3"
  },
  "language_info": {
   "codemirror_mode": {
    "name": "ipython",
    "version": 3
   },
   "file_extension": ".py",
   "mimetype": "text/x-python",
   "name": "python",
   "nbconvert_exporter": "python",
   "pygments_lexer": "ipython3",
   "version": "3.5.4"
  }
 },
 "nbformat": 4,
 "nbformat_minor": 2
}
