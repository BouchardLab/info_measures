{
 "cells": [
  {
   "cell_type": "code",
   "execution_count": 18,
   "metadata": {},
   "outputs": [],
   "source": [
    "import numpy as np\n",
    "from scipy.stats import multivariate_normal\n",
    "import matplotlib.pyplot as plt\n",
    "\n",
    "import info_measures.numpy.kraskov_stoegbauer_grassberger as ksg"
   ]
  },
  {
   "cell_type": "code",
   "execution_count": 19,
   "metadata": {
    "collapsed": true
   },
   "outputs": [],
   "source": [
    "variance = 1.\n",
    "rho = .6\n",
    "n_samples = 1000\n",
    "cs = {'knn1': '#9467bd',\n",
    "      'knn2': '#8c564b',\n",
    "      'true': '#1f77b4'}"
   ]
  },
  {
   "cell_type": "code",
   "execution_count": 48,
   "metadata": {},
   "outputs": [],
   "source": [
    "dims = np.linspace(1, 40, 15, dtype=int)[::-1]\n",
    "\n",
    "n_repeat = 100\n",
    "e_ts = np.zeros((n_repeat, dims.size))\n",
    "e_2ts = np.zeros((n_repeat, dims.size))\n",
    "pis = np.zeros((n_repeat, dims.size))\n",
    "e_pi1s = np.zeros((n_repeat, dims.size))\n",
    "e_pi2s = np.zeros((n_repeat, dims.size))\n",
    "\n",
    "for ii in range(n_repeat):\n",
    "    dim = dims[0]\n",
    "    sigma_2t = np.ones((2*dim, 2*dim)) * variance * rho\n",
    "    sigma_2t[np.arange(2*dim), np.arange(2*dim)] = variance\n",
    "    mean_2t = np.zeros(2*dim)\n",
    "    samples = np.random.multivariate_normal(mean_2t, sigma_2t, size=n_samples)\n",
    "    samples_x = samples[:, :dim]\n",
    "    samples_y = samples[:, dim:]\n",
    "    for jj, dim in enumerate(dims):\n",
    "        sxi = samples_x[:, :dim]\n",
    "        syi = samples_y[:, :dim]\n",
    "        sigma_t = np.ones((dim, dim)) * variance * rho\n",
    "        sigma_t[np.arange(dim), np.arange(dim)] = variance\n",
    "        mean_t = np.zeros(dim)\n",
    "\n",
    "        sigma_2t = np.ones((2*dim, 2*dim)) * variance * rho\n",
    "        sigma_2t[np.arange(2*dim), np.arange(2*dim)] = variance\n",
    "        mean_2t = np.zeros(2*dim)\n",
    "\n",
    "        e_t = multivariate_normal(mean_t, sigma_t).entropy()\n",
    "        e_2t = multivariate_normal(mean_2t, sigma_2t).entropy()\n",
    "        e_ts[ii, jj] = e_t\n",
    "        e_2ts[ii, jj] = e_2t\n",
    "        pis[ii, jj] = pi(dim, variance, rho)\n",
    "        e_ksg = ksg.MutualInformation(sxi, syi)\n",
    "        e_pi1s[ii, jj] = e_ksg.mutual_information()\n",
    "        e_pi2s[ii, jj] = e_ksg.mutual_information(kind=2)"
   ]
  },
  {
   "cell_type": "code",
   "execution_count": 51,
   "metadata": {},
   "outputs": [
    {
     "data": {
      "image/png": "[encoded data removed]",
      "text/plain": [
       "<matplotlib.figure.Figure at 0x7f5ef11f87f0>"
      ]
     },
     "metadata": {},
     "output_type": "display_data"
    }
   ],
   "source": [
    "for x, name in zip([pis, e_pi1s, e_pi2s], ['true', 'knn1', 'knn2']):\n",
    "    plt.plot(dims, np.median(x, axis=0), label=name, c=cs[name])\n",
    "    if name != 'true':\n",
    "        plt.fill_between(dims, np.percentile(x, 2.5, axis=0), np.percentile(x, 97.5, axis=0),\n",
    "                         facecolor=cs[name], alpha=.2)\n",
    "plt.legend()\n",
    "plt.ylabel('Predictive Information')\n",
    "plt.xlabel('Dimensionality (T)')\n",
    "plt.savefig('/home/jesse/Downloads/pi_dim.pdf')\n",
    "plt.show()"
   ]
  },
  {
   "cell_type": "code",
   "execution_count": 34,
   "metadata": {},
   "outputs": [
    {
     "data": {
      "text/plain": [
       "array([[ 1.01390344,  0.99489527,  0.99095964, ...,  0.50321662,\n",
       "         0.39985261,  0.22986748],\n",
       "       [ 0.25367702,  0.25367702,  0.25367702, ...,  0.25367702,\n",
       "         0.25367702,  0.25367702],\n",
       "       [ 0.16231218,  0.16231218,  0.16231218, ...,  0.16231218,\n",
       "         0.16231218,  0.16231218],\n",
       "       ..., \n",
       "       [ 0.20574426,  0.20574426,  0.20574426, ...,  0.20574426,\n",
       "         0.20574426,  0.20574426],\n",
       "       [ 0.24005578,  0.24005578,  0.24005578, ...,  0.24005578,\n",
       "         0.24005578,  0.24005578],\n",
       "       [ 0.23683254,  0.23683254,  0.23683254, ...,  0.23683254,\n",
       "         0.23683254,  0.23683254]])"
      ]
     },
     "execution_count": 34,
     "metadata": {},
     "output_type": "execute_result"
    }
   ],
   "source": [
    "e_pi1s"
   ]
  },
  {
   "cell_type": "code",
   "execution_count": 60,
   "metadata": {
    "collapsed": true
   },
   "outputs": [],
   "source": [
    "dim = 6\n",
    "variance = .64\n",
    "rho = .6\n",
    "sigma_t = np.ones((dim, dim)) * variance * rho\n",
    "sigma_t[np.arange(dim), np.arange(dim)] = variance"
   ]
  },
  {
   "cell_type": "code",
   "execution_count": 61,
   "metadata": {},
   "outputs": [
    {
     "data": {
      "text/plain": [
       "(2.56, array([ 0.256,  0.256,  0.256,  0.256,  0.256,  2.56 ]))"
      ]
     },
     "execution_count": 61,
     "metadata": {},
     "output_type": "execute_result"
    }
   ],
   "source": [
    "variance*(1.+(dim-1)*rho), np.linalg.eigvalsh(sigma_t)"
   ]
  },
  {
   "cell_type": "code",
   "execution_count": 62,
   "metadata": {},
   "outputs": [
    {
     "data": {
      "text/plain": [
       "array([[ 0.64 ,  0.384,  0.384,  0.384,  0.384,  0.384],\n",
       "       [ 0.384,  0.64 ,  0.384,  0.384,  0.384,  0.384],\n",
       "       [ 0.384,  0.384,  0.64 ,  0.384,  0.384,  0.384],\n",
       "       [ 0.384,  0.384,  0.384,  0.64 ,  0.384,  0.384],\n",
       "       [ 0.384,  0.384,  0.384,  0.384,  0.64 ,  0.384],\n",
       "       [ 0.384,  0.384,  0.384,  0.384,  0.384,  0.64 ]])"
      ]
     },
     "execution_count": 62,
     "metadata": {},
     "output_type": "execute_result"
    }
   ],
   "source": [
    "sigma_t"
   ]
  },
  {
   "cell_type": "code",
   "execution_count": 63,
   "metadata": {},
   "outputs": [
    {
     "name": "stdout",
     "output_type": "stream",
     "text": [
      "[[ 0.8         0.          0.          0.          0.          0.        ]\n",
      " [ 0.48        0.64        0.          0.          0.          0.        ]\n",
      " [ 0.48        0.24        0.59329588  0.          0.          0.        ]\n",
      " [ 0.48        0.24        0.16180797  0.57080485  0.          0.        ]\n",
      " [ 0.48        0.24        0.16180797  0.12231533  0.55754564  0.        ]\n",
      " [ 0.48        0.24        0.16180797  0.12231533  0.09839041  0.54879547]]\n"
     ]
    }
   ],
   "source": [
    "L = np.linalg.cholesky(sigma_t)\n",
    "print(L)"
   ]
  },
  {
   "cell_type": "code",
   "execution_count": 64,
   "metadata": {},
   "outputs": [
    {
     "name": "stdout",
     "output_type": "stream",
     "text": [
      "[[ 0.8         0.48        0.48        0.48        0.48        0.48      ]\n",
      " [ 0.          0.64        0.24        0.24        0.24        0.24      ]\n",
      " [ 0.          0.          0.59329588  0.16180797  0.16180797  0.16180797]\n",
      " [ 0.          0.          0.          0.57080485  0.12231533  0.12231533]\n",
      " [ 0.          0.          0.          0.          0.55754564  0.09839041]\n",
      " [ 0.          0.          0.          0.          0.          0.54879547]]\n"
     ]
    }
   ],
   "source": [
    "print(L.T)"
   ]
  },
  {
   "cell_type": "code",
   "execution_count": 29,
   "metadata": {},
   "outputs": [
    {
     "data": {
      "text/plain": [
       "array([[ 1. ,  0.6,  0.6,  0.6],\n",
       "       [ 0.6,  1. ,  0.6,  0.6],\n",
       "       [ 0.6,  0.6,  1. ,  0.6],\n",
       "       [ 0.6,  0.6,  0.6,  1. ]])"
      ]
     },
     "execution_count": 29,
     "metadata": {},
     "output_type": "execute_result"
    }
   ],
   "source": [
    "L.dot(L.T)"
   ]
  },
  {
   "cell_type": "code",
   "execution_count": 58,
   "metadata": {},
   "outputs": [
    {
     "data": {
      "text/plain": [
       "1.0"
      ]
     },
     "execution_count": 58,
     "metadata": {},
     "output_type": "execute_result"
    }
   ],
   "source": [
    "np.square(L[1]).sum()"
   ]
  },
  {
   "cell_type": "code",
   "execution_count": 39,
   "metadata": {
    "collapsed": true
   },
   "outputs": [],
   "source": [
    "def entropy(dim, variance, rho):\n",
    "    e0 = variance*(1.+(dim-1.)*rho)\n",
    "    return .5*np.log(e0 * np.power(variance*(1.-rho), dim-1)*(2.*np.pi*np.e)**dim)\n",
    "\n",
    "def pi(dim, variance, rho):\n",
    "    num = variance*(1.+(dim-1.)*rho)\n",
    "    den = variance*(1.+(2*dim-1.)*rho)\n",
    "    return np.log(num / np.sqrt(den)) -.5*np.log(variance*(1.-rho))"
   ]
  },
  {
   "cell_type": "code",
   "execution_count": 15,
   "metadata": {},
   "outputs": [
    {
     "data": {
      "image/png": "[encoded data removed]",
      "text/plain": [
       "<matplotlib.figure.Figure at 0x7f5ef0167710>"
      ]
     },
     "metadata": {},
     "output_type": "display_data"
    }
   ],
   "source": [
    "plt.plot(entropy(dims, variance, rho), e_ts)\n",
    "plt.show()"
   ]
  }
 ],
 "metadata": {
  "kernelspec": {
   "display_name": "Python 3",
   "language": "python",
   "name": "python3"
  },
  "language_info": {
   "codemirror_mode": {
    "name": "ipython",
    "version": 3
   },
   "file_extension": ".py",
   "mimetype": "text/x-python",
   "name": "python",
   "nbconvert_exporter": "python",
   "pygments_lexer": "ipython3",
   "version": "3.5.4"
  }
 },
 "nbformat": 4,
 "nbformat_minor": 2
}
